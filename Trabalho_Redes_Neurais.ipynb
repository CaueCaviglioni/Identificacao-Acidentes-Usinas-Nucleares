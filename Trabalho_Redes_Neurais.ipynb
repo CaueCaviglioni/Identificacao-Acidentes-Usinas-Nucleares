{
  "nbformat": 4,
  "nbformat_minor": 0,
  "metadata": {
    "kernelspec": {
      "display_name": "Python 3",
      "language": "python",
      "name": "python3"
    },
    "language_info": {
      "codemirror_mode": {
        "name": "ipython",
        "version": 3
      },
      "file_extension": ".py",
      "mimetype": "text/x-python",
      "name": "python",
      "nbconvert_exporter": "python",
      "pygments_lexer": "ipython3",
      "version": "3.7.7"
    },
    "colab": {
      "name": "Trabalho_Redes_Neurais.ipynb",
      "provenance": [],
      "collapsed_sections": []
    },
    "accelerator": "GPU"
  },
  "cells": [
    {
      "cell_type": "markdown",
      "metadata": {
        "id": "dfyIirJMmQEB"
      },
      "source": [
        "# Rede Neural para Acidentes em uma Usina Nuclear"
      ]
    },
    {
      "cell_type": "markdown",
      "metadata": {
        "id": "5P6NImUAmQEC"
      },
      "source": [
        "## Bibliotecas usadas na implementação da rede"
      ]
    },
    {
      "cell_type": "code",
      "metadata": {
        "id": "Mg_krSP4mQEC"
      },
      "source": [
        "import numpy as np # será usada para mexer com vetores e matrizes\n",
        "import pandas as pd # será usada para mexer com o arquivo Excel\n",
        "import matplotlib.pyplot as plt # será usada para mostrar os gráficos desejados\n",
        "from sklearn.preprocessing import MinMaxScaler # será usada para normalizar os dados do Excel\n",
        "from sklearn.preprocessing import LabelBinarizer # será usada para transformar os acidentes em binários\n",
        "from sklearn.model_selection import train_test_split # será usada para dividir o conjunto de dados do arquivo Excel\n",
        "from tensorflow import random \n",
        "from tensorflow.keras import layers, models, optimizers # será usada na construção da rede\n",
        "\n",
        "seed = 1\n",
        "np.random.seed(seed)\n",
        "random.set_seed(seed)"
      ],
      "execution_count": 1,
      "outputs": []
    },
    {
      "cell_type": "markdown",
      "metadata": {
        "id": "z_imqEEHmQEG"
      },
      "source": [
        "## Abrindo o arquivo Excel para leitura"
      ]
    },
    {
      "cell_type": "code",
      "metadata": {
        "id": "qCBJvBIBmQEG"
      },
      "source": [
        "dados = pd.read_excel(\"/content/sample_data/dados_trabalho.xlsx\")"
      ],
      "execution_count": 2,
      "outputs": []
    },
    {
      "cell_type": "markdown",
      "metadata": {
        "id": "nOGjITvWmQEI"
      },
      "source": [
        "## Selecionando os dados de entrada/saída"
      ]
    },
    {
      "cell_type": "code",
      "metadata": {
        "id": "vkrvyd94mQEJ"
      },
      "source": [
        "entradas = dados.iloc[:,0:17]\n",
        "saidas = dados.iloc[:,-1]"
      ],
      "execution_count": 3,
      "outputs": []
    },
    {
      "cell_type": "markdown",
      "metadata": {
        "id": "I69WkrYOmQEM"
      },
      "source": [
        "## Selecionando os dados que serão usados para treinamento, teste e validação"
      ]
    },
    {
      "cell_type": "code",
      "metadata": {
        "id": "QJncwbWrmQEM",
        "outputId": "c07ab9dc-8a92-4334-bc8d-18add97a5eef",
        "colab": {
          "base_uri": "https://localhost:8080/",
          "height": 69
        }
      },
      "source": [
        "entradasTreino, entradasTeste, saidasTreino, saidasTeste = train_test_split(entradas, saidas, test_size=0.2)\n",
        "entradasTreino, entradasValid, saidasTreino, saidasValid = train_test_split(entradasTreino, saidasTreino, test_size=0.2)\n",
        "print(\"Quantidade de entradas para treinamento da rede: \", len(entradasTreino))\n",
        "print(\"Quantidade de entradas para teste da rede: \", len(entradasTeste))\n",
        "print(\"Quantidade de entradas para validação dade rede: \", len(entradasValid))"
      ],
      "execution_count": 4,
      "outputs": [
        {
          "output_type": "stream",
          "text": [
            "Quantidade de entradas para treinamento da rede:  468\n",
            "Quantidade de entradas para teste da rede:  147\n",
            "Quantidade de entradas para validação dade rede:  117\n"
          ],
          "name": "stdout"
        }
      ]
    },
    {
      "cell_type": "markdown",
      "metadata": {
        "id": "9EHGP50VmQES"
      },
      "source": [
        "## Normalizando os dados de entrada e transformando os nomes dos acidentes em números binários"
      ]
    },
    {
      "cell_type": "code",
      "metadata": {
        "id": "g0DxTUtdmQEW"
      },
      "source": [
        "normalizer = MinMaxScaler(feature_range = (0, 1))\n",
        "entradasTreino = normalizer.fit_transform(entradasTreino)\n",
        "entradasValid = normalizer.transform(entradasValid)\n",
        "entradasTeste = normalizer.transform(entradasTeste)\n",
        "\n",
        "lb = LabelBinarizer()\n",
        "saidasTreino = lb.fit_transform(saidasTreino)\n",
        "saidasValid = lb.transform(saidasValid)\n",
        "saidasTeste = lb.transform(saidasTeste)"
      ],
      "execution_count": 5,
      "outputs": []
    },
    {
      "cell_type": "markdown",
      "metadata": {
        "id": "jlZj-Q2fmQEZ"
      },
      "source": [
        "## Definindo as quantidades de entradas, saídas, neurônios, funções de ativação, tipo de otimizador, função erro, tamanho do batch e o número de épocas"
      ]
    },
    {
      "cell_type": "code",
      "metadata": {
        "id": "yR2icT55mQEZ"
      },
      "source": [
        "quant_entradas = entradasTreino.shape[1]\n",
        "quant_saidas = saidasTreino.shape[1]\n",
        "quant_neuronios = 30\n",
        "funcaoAtivacao = \"sigmoid\"\n",
        "funcaoSaida = \"softmax\"\n",
        "optimizer = optimizers.Adam(lr=0.1, beta_1=0.9, beta_2=0.999, epsilon=1E-8, decay=0.0)\n",
        "funcaoErro ='categorical_crossentropy'\n",
        "batelada = 50\n",
        "epocas =  300"
      ],
      "execution_count": 6,
      "outputs": []
    },
    {
      "cell_type": "markdown",
      "metadata": {
        "id": "hyR1nbC9mQEb"
      },
      "source": [
        "## Estrutrando a rede"
      ]
    },
    {
      "cell_type": "code",
      "metadata": {
        "id": "rBWcXZMOmQEc"
      },
      "source": [
        "model = models.Sequential()\n",
        "# Camada de entrada e camada escondida 1\n",
        "model.add(layers.Dense(quant_neuronios, activation=funcaoAtivacao, input_dim=quant_entradas))\n",
        "# Camada Escondida 2\n",
        "model.add(layers.Dense(quant_neuronios, activation=funcaoAtivacao))\n",
        "# Camada de Saída\n",
        "model.add(layers.Dense(quant_saidas, activation=funcaoSaida))"
      ],
      "execution_count": 7,
      "outputs": []
    },
    {
      "cell_type": "markdown",
      "metadata": {
        "id": "v1x1MDqzmQEe"
      },
      "source": [
        "## Compilando a rede neural"
      ]
    },
    {
      "cell_type": "code",
      "metadata": {
        "id": "lHg4nKQNmQEe"
      },
      "source": [
        "model.compile(loss=funcaoErro, optimizer=optimizer)"
      ],
      "execution_count": 8,
      "outputs": []
    },
    {
      "cell_type": "markdown",
      "metadata": {
        "id": "C2hI9Om1mQEl"
      },
      "source": [
        "## Treinando a rede neural"
      ]
    },
    {
      "cell_type": "code",
      "metadata": {
        "id": "u_Z2tHH3mQEl",
        "outputId": "ca274917-18f6-455d-a989-1bd5a89243a6",
        "colab": {
          "base_uri": "https://localhost:8080/",
          "height": 1000
        }
      },
      "source": [
        "history = model.fit(entradasTreino, saidasTreino, epochs=epocas, batch_size=batelada, validation_data=(entradasValid, saidasValid), shuffle=True,\n",
        "          verbose=1)"
      ],
      "execution_count": 9,
      "outputs": [
        {
          "output_type": "stream",
          "text": [
            "Epoch 1/300\n",
            "10/10 [==============================] - 0s 14ms/step - loss: 1.5377 - val_loss: 1.0804\n",
            "Epoch 2/300\n",
            "10/10 [==============================] - 0s 3ms/step - loss: 0.9882 - val_loss: 0.7253\n",
            "Epoch 3/300\n",
            "10/10 [==============================] - 0s 3ms/step - loss: 0.6422 - val_loss: 0.4108\n",
            "Epoch 4/300\n",
            "10/10 [==============================] - 0s 3ms/step - loss: 0.5180 - val_loss: 0.5298\n",
            "Epoch 5/300\n",
            "10/10 [==============================] - 0s 3ms/step - loss: 0.5268 - val_loss: 0.4118\n",
            "Epoch 6/300\n",
            "10/10 [==============================] - 0s 3ms/step - loss: 0.5191 - val_loss: 0.3467\n",
            "Epoch 7/300\n",
            "10/10 [==============================] - 0s 3ms/step - loss: 0.4805 - val_loss: 0.3779\n",
            "Epoch 8/300\n",
            "10/10 [==============================] - 0s 4ms/step - loss: 0.4971 - val_loss: 0.3487\n",
            "Epoch 9/300\n",
            "10/10 [==============================] - 0s 3ms/step - loss: 0.4932 - val_loss: 0.4480\n",
            "Epoch 10/300\n",
            "10/10 [==============================] - 0s 3ms/step - loss: 0.5061 - val_loss: 0.3638\n",
            "Epoch 11/300\n",
            "10/10 [==============================] - 0s 3ms/step - loss: 0.4570 - val_loss: 0.3689\n",
            "Epoch 12/300\n",
            "10/10 [==============================] - 0s 3ms/step - loss: 0.4399 - val_loss: 0.3682\n",
            "Epoch 13/300\n",
            "10/10 [==============================] - 0s 3ms/step - loss: 0.4391 - val_loss: 0.3480\n",
            "Epoch 14/300\n",
            "10/10 [==============================] - 0s 3ms/step - loss: 0.4176 - val_loss: 0.3465\n",
            "Epoch 15/300\n",
            "10/10 [==============================] - 0s 3ms/step - loss: 0.4564 - val_loss: 0.4232\n",
            "Epoch 16/300\n",
            "10/10 [==============================] - 0s 3ms/step - loss: 0.4701 - val_loss: 0.3958\n",
            "Epoch 17/300\n",
            "10/10 [==============================] - 0s 3ms/step - loss: 0.4229 - val_loss: 0.3625\n",
            "Epoch 18/300\n",
            "10/10 [==============================] - 0s 3ms/step - loss: 0.4255 - val_loss: 0.3580\n",
            "Epoch 19/300\n",
            "10/10 [==============================] - 0s 3ms/step - loss: 0.4186 - val_loss: 0.3382\n",
            "Epoch 20/300\n",
            "10/10 [==============================] - 0s 3ms/step - loss: 0.4346 - val_loss: 0.3491\n",
            "Epoch 21/300\n",
            "10/10 [==============================] - 0s 3ms/step - loss: 0.4312 - val_loss: 0.3886\n",
            "Epoch 22/300\n",
            "10/10 [==============================] - 0s 3ms/step - loss: 0.4345 - val_loss: 0.3767\n",
            "Epoch 23/300\n",
            "10/10 [==============================] - 0s 3ms/step - loss: 0.4387 - val_loss: 0.3562\n",
            "Epoch 24/300\n",
            "10/10 [==============================] - 0s 3ms/step - loss: 0.4118 - val_loss: 0.3353\n",
            "Epoch 25/300\n",
            "10/10 [==============================] - 0s 3ms/step - loss: 0.4116 - val_loss: 0.3708\n",
            "Epoch 26/300\n",
            "10/10 [==============================] - 0s 3ms/step - loss: 0.4041 - val_loss: 0.3365\n",
            "Epoch 27/300\n",
            "10/10 [==============================] - 0s 3ms/step - loss: 0.4223 - val_loss: 0.3683\n",
            "Epoch 28/300\n",
            "10/10 [==============================] - 0s 3ms/step - loss: 0.4264 - val_loss: 0.3579\n",
            "Epoch 29/300\n",
            "10/10 [==============================] - 0s 3ms/step - loss: 0.4238 - val_loss: 0.3628\n",
            "Epoch 30/300\n",
            "10/10 [==============================] - 0s 3ms/step - loss: 0.4115 - val_loss: 0.3666\n",
            "Epoch 31/300\n",
            "10/10 [==============================] - 0s 3ms/step - loss: 0.4179 - val_loss: 0.3476\n",
            "Epoch 32/300\n",
            "10/10 [==============================] - 0s 3ms/step - loss: 0.3994 - val_loss: 0.3500\n",
            "Epoch 33/300\n",
            "10/10 [==============================] - 0s 3ms/step - loss: 0.4015 - val_loss: 0.3275\n",
            "Epoch 34/300\n",
            "10/10 [==============================] - 0s 3ms/step - loss: 0.4315 - val_loss: 0.3621\n",
            "Epoch 35/300\n",
            "10/10 [==============================] - 0s 3ms/step - loss: 0.4157 - val_loss: 0.3832\n",
            "Epoch 36/300\n",
            "10/10 [==============================] - 0s 3ms/step - loss: 0.4016 - val_loss: 0.3605\n",
            "Epoch 37/300\n",
            "10/10 [==============================] - 0s 3ms/step - loss: 0.4209 - val_loss: 0.3669\n",
            "Epoch 38/300\n",
            "10/10 [==============================] - 0s 3ms/step - loss: 0.4016 - val_loss: 0.3499\n",
            "Epoch 39/300\n",
            "10/10 [==============================] - 0s 3ms/step - loss: 0.4001 - val_loss: 0.3323\n",
            "Epoch 40/300\n",
            "10/10 [==============================] - 0s 3ms/step - loss: 0.4237 - val_loss: 0.4199\n",
            "Epoch 41/300\n",
            "10/10 [==============================] - 0s 3ms/step - loss: 0.4336 - val_loss: 0.3333\n",
            "Epoch 42/300\n",
            "10/10 [==============================] - 0s 3ms/step - loss: 0.4033 - val_loss: 0.3497\n",
            "Epoch 43/300\n",
            "10/10 [==============================] - 0s 3ms/step - loss: 0.3760 - val_loss: 0.3073\n",
            "Epoch 44/300\n",
            "10/10 [==============================] - 0s 3ms/step - loss: 0.3678 - val_loss: 0.3710\n",
            "Epoch 45/300\n",
            "10/10 [==============================] - 0s 4ms/step - loss: 0.4082 - val_loss: 0.3864\n",
            "Epoch 46/300\n",
            "10/10 [==============================] - 0s 3ms/step - loss: 0.3988 - val_loss: 0.3627\n",
            "Epoch 47/300\n",
            "10/10 [==============================] - 0s 3ms/step - loss: 0.3844 - val_loss: 0.3151\n",
            "Epoch 48/300\n",
            "10/10 [==============================] - 0s 3ms/step - loss: 0.3787 - val_loss: 0.3256\n",
            "Epoch 49/300\n",
            "10/10 [==============================] - 0s 3ms/step - loss: 0.3725 - val_loss: 0.3175\n",
            "Epoch 50/300\n",
            "10/10 [==============================] - 0s 3ms/step - loss: 0.3810 - val_loss: 0.3217\n",
            "Epoch 51/300\n",
            "10/10 [==============================] - 0s 4ms/step - loss: 0.3481 - val_loss: 0.2907\n",
            "Epoch 52/300\n",
            "10/10 [==============================] - 0s 3ms/step - loss: 0.3452 - val_loss: 0.3950\n",
            "Epoch 53/300\n",
            "10/10 [==============================] - 0s 3ms/step - loss: 0.3474 - val_loss: 0.2829\n",
            "Epoch 54/300\n",
            "10/10 [==============================] - 0s 3ms/step - loss: 0.3883 - val_loss: 0.5891\n",
            "Epoch 55/300\n",
            "10/10 [==============================] - 0s 3ms/step - loss: 0.4728 - val_loss: 0.3516\n",
            "Epoch 56/300\n",
            "10/10 [==============================] - 0s 3ms/step - loss: 0.4065 - val_loss: 0.3489\n",
            "Epoch 57/300\n",
            "10/10 [==============================] - 0s 3ms/step - loss: 0.4039 - val_loss: 0.3430\n",
            "Epoch 58/300\n",
            "10/10 [==============================] - 0s 3ms/step - loss: 0.4005 - val_loss: 0.3536\n",
            "Epoch 59/300\n",
            "10/10 [==============================] - 0s 3ms/step - loss: 0.3966 - val_loss: 0.3364\n",
            "Epoch 60/300\n",
            "10/10 [==============================] - 0s 4ms/step - loss: 0.3943 - val_loss: 0.3411\n",
            "Epoch 61/300\n",
            "10/10 [==============================] - 0s 3ms/step - loss: 0.3787 - val_loss: 0.3320\n",
            "Epoch 62/300\n",
            "10/10 [==============================] - 0s 3ms/step - loss: 0.3554 - val_loss: 0.3308\n",
            "Epoch 63/300\n",
            "10/10 [==============================] - 0s 3ms/step - loss: 0.3571 - val_loss: 0.4949\n",
            "Epoch 64/300\n",
            "10/10 [==============================] - 0s 3ms/step - loss: 0.4534 - val_loss: 0.3541\n",
            "Epoch 65/300\n",
            "10/10 [==============================] - 0s 3ms/step - loss: 0.3976 - val_loss: 0.3583\n",
            "Epoch 66/300\n",
            "10/10 [==============================] - 0s 3ms/step - loss: 0.3824 - val_loss: 0.3408\n",
            "Epoch 67/300\n",
            "10/10 [==============================] - 0s 3ms/step - loss: 0.3814 - val_loss: 0.3441\n",
            "Epoch 68/300\n",
            "10/10 [==============================] - 0s 3ms/step - loss: 0.3871 - val_loss: 0.3468\n",
            "Epoch 69/300\n",
            "10/10 [==============================] - 0s 3ms/step - loss: 0.3771 - val_loss: 0.3256\n",
            "Epoch 70/300\n",
            "10/10 [==============================] - 0s 3ms/step - loss: 0.3760 - val_loss: 0.3413\n",
            "Epoch 71/300\n",
            "10/10 [==============================] - 0s 3ms/step - loss: 0.3721 - val_loss: 0.3442\n",
            "Epoch 72/300\n",
            "10/10 [==============================] - 0s 3ms/step - loss: 0.3734 - val_loss: 0.3024\n",
            "Epoch 73/300\n",
            "10/10 [==============================] - 0s 3ms/step - loss: 0.3623 - val_loss: 0.3736\n",
            "Epoch 74/300\n",
            "10/10 [==============================] - 0s 3ms/step - loss: 0.3589 - val_loss: 0.3510\n",
            "Epoch 75/300\n",
            "10/10 [==============================] - 0s 3ms/step - loss: 0.3792 - val_loss: 0.3221\n",
            "Epoch 76/300\n",
            "10/10 [==============================] - 0s 3ms/step - loss: 0.3457 - val_loss: 0.2687\n",
            "Epoch 77/300\n",
            "10/10 [==============================] - 0s 3ms/step - loss: 0.3078 - val_loss: 0.3518\n",
            "Epoch 78/300\n",
            "10/10 [==============================] - 0s 4ms/step - loss: 0.4283 - val_loss: 0.3947\n",
            "Epoch 79/300\n",
            "10/10 [==============================] - 0s 3ms/step - loss: 0.3927 - val_loss: 0.3106\n",
            "Epoch 80/300\n",
            "10/10 [==============================] - 0s 3ms/step - loss: 0.3562 - val_loss: 0.2981\n",
            "Epoch 81/300\n",
            "10/10 [==============================] - 0s 3ms/step - loss: 0.3261 - val_loss: 0.2804\n",
            "Epoch 82/300\n",
            "10/10 [==============================] - 0s 3ms/step - loss: 0.3481 - val_loss: 0.2553\n",
            "Epoch 83/300\n",
            "10/10 [==============================] - 0s 3ms/step - loss: 0.3667 - val_loss: 0.2743\n",
            "Epoch 84/300\n",
            "10/10 [==============================] - 0s 3ms/step - loss: 0.3700 - val_loss: 0.3322\n",
            "Epoch 85/300\n",
            "10/10 [==============================] - 0s 3ms/step - loss: 0.3695 - val_loss: 0.2998\n",
            "Epoch 86/300\n",
            "10/10 [==============================] - 0s 3ms/step - loss: 0.3359 - val_loss: 0.2869\n",
            "Epoch 87/300\n",
            "10/10 [==============================] - 0s 3ms/step - loss: 0.3177 - val_loss: 0.3149\n",
            "Epoch 88/300\n",
            "10/10 [==============================] - 0s 3ms/step - loss: 0.3142 - val_loss: 0.2340\n",
            "Epoch 89/300\n",
            "10/10 [==============================] - 0s 3ms/step - loss: 0.3872 - val_loss: 0.2571\n",
            "Epoch 90/300\n",
            "10/10 [==============================] - 0s 3ms/step - loss: 0.3251 - val_loss: 0.2426\n",
            "Epoch 91/300\n",
            "10/10 [==============================] - 0s 3ms/step - loss: 0.2973 - val_loss: 0.2121\n",
            "Epoch 92/300\n",
            "10/10 [==============================] - 0s 3ms/step - loss: 0.2661 - val_loss: 0.2219\n",
            "Epoch 93/300\n",
            "10/10 [==============================] - 0s 3ms/step - loss: 0.2991 - val_loss: 0.3637\n",
            "Epoch 94/300\n",
            "10/10 [==============================] - 0s 3ms/step - loss: 0.4594 - val_loss: 0.3302\n",
            "Epoch 95/300\n",
            "10/10 [==============================] - 0s 3ms/step - loss: 0.3636 - val_loss: 0.2874\n",
            "Epoch 96/300\n",
            "10/10 [==============================] - 0s 3ms/step - loss: 0.3744 - val_loss: 0.2609\n",
            "Epoch 97/300\n",
            "10/10 [==============================] - 0s 4ms/step - loss: 0.3089 - val_loss: 0.2498\n",
            "Epoch 98/300\n",
            "10/10 [==============================] - 0s 4ms/step - loss: 0.2785 - val_loss: 0.2235\n",
            "Epoch 99/300\n",
            "10/10 [==============================] - 0s 3ms/step - loss: 0.2483 - val_loss: 0.1666\n",
            "Epoch 100/300\n",
            "10/10 [==============================] - 0s 3ms/step - loss: 0.2575 - val_loss: 0.2652\n",
            "Epoch 101/300\n",
            "10/10 [==============================] - 0s 3ms/step - loss: 0.3986 - val_loss: 0.2619\n",
            "Epoch 102/300\n",
            "10/10 [==============================] - 0s 3ms/step - loss: 0.3038 - val_loss: 0.2727\n",
            "Epoch 103/300\n",
            "10/10 [==============================] - 0s 3ms/step - loss: 0.2898 - val_loss: 0.1618\n",
            "Epoch 104/300\n",
            "10/10 [==============================] - 0s 3ms/step - loss: 0.2365 - val_loss: 0.1982\n",
            "Epoch 105/300\n",
            "10/10 [==============================] - 0s 4ms/step - loss: 0.2393 - val_loss: 0.1715\n",
            "Epoch 106/300\n",
            "10/10 [==============================] - 0s 3ms/step - loss: 0.2780 - val_loss: 0.1690\n",
            "Epoch 107/300\n",
            "10/10 [==============================] - 0s 3ms/step - loss: 0.2730 - val_loss: 0.1325\n",
            "Epoch 108/300\n",
            "10/10 [==============================] - 0s 3ms/step - loss: 0.2588 - val_loss: 0.1782\n",
            "Epoch 109/300\n",
            "10/10 [==============================] - 0s 3ms/step - loss: 0.2550 - val_loss: 0.1598\n",
            "Epoch 110/300\n",
            "10/10 [==============================] - 0s 3ms/step - loss: 0.2091 - val_loss: 0.1677\n",
            "Epoch 111/300\n",
            "10/10 [==============================] - 0s 3ms/step - loss: 0.1875 - val_loss: 0.1564\n",
            "Epoch 112/300\n",
            "10/10 [==============================] - 0s 3ms/step - loss: 0.1666 - val_loss: 0.3335\n",
            "Epoch 113/300\n",
            "10/10 [==============================] - 0s 3ms/step - loss: 0.2106 - val_loss: 0.1502\n",
            "Epoch 114/300\n",
            "10/10 [==============================] - 0s 3ms/step - loss: 0.1522 - val_loss: 0.2933\n",
            "Epoch 115/300\n",
            "10/10 [==============================] - 0s 3ms/step - loss: 0.2340 - val_loss: 0.2931\n",
            "Epoch 116/300\n",
            "10/10 [==============================] - 0s 3ms/step - loss: 0.3793 - val_loss: 0.2859\n",
            "Epoch 117/300\n",
            "10/10 [==============================] - 0s 3ms/step - loss: 0.2597 - val_loss: 0.1493\n",
            "Epoch 118/300\n",
            "10/10 [==============================] - 0s 3ms/step - loss: 0.2048 - val_loss: 0.1257\n",
            "Epoch 119/300\n",
            "10/10 [==============================] - 0s 3ms/step - loss: 0.1649 - val_loss: 0.1136\n",
            "Epoch 120/300\n",
            "10/10 [==============================] - 0s 3ms/step - loss: 0.1425 - val_loss: 0.1381\n",
            "Epoch 121/300\n",
            "10/10 [==============================] - 0s 3ms/step - loss: 0.1653 - val_loss: 0.0916\n",
            "Epoch 122/300\n",
            "10/10 [==============================] - 0s 3ms/step - loss: 0.1369 - val_loss: 0.1121\n",
            "Epoch 123/300\n",
            "10/10 [==============================] - 0s 3ms/step - loss: 0.1192 - val_loss: 0.1206\n",
            "Epoch 124/300\n",
            "10/10 [==============================] - 0s 3ms/step - loss: 0.1380 - val_loss: 0.1094\n",
            "Epoch 125/300\n",
            "10/10 [==============================] - 0s 3ms/step - loss: 0.1202 - val_loss: 0.0956\n",
            "Epoch 126/300\n",
            "10/10 [==============================] - 0s 3ms/step - loss: 0.1436 - val_loss: 0.1149\n",
            "Epoch 127/300\n",
            "10/10 [==============================] - 0s 3ms/step - loss: 0.1075 - val_loss: 0.1852\n",
            "Epoch 128/300\n",
            "10/10 [==============================] - 0s 3ms/step - loss: 0.2741 - val_loss: 0.5053\n",
            "Epoch 129/300\n",
            "10/10 [==============================] - 0s 3ms/step - loss: 0.4820 - val_loss: 0.1543\n",
            "Epoch 130/300\n",
            "10/10 [==============================] - 0s 3ms/step - loss: 0.2318 - val_loss: 0.1671\n",
            "Epoch 131/300\n",
            "10/10 [==============================] - 0s 3ms/step - loss: 0.1921 - val_loss: 0.1316\n",
            "Epoch 132/300\n",
            "10/10 [==============================] - 0s 3ms/step - loss: 0.1557 - val_loss: 0.1083\n",
            "Epoch 133/300\n",
            "10/10 [==============================] - 0s 3ms/step - loss: 0.1197 - val_loss: 0.0971\n",
            "Epoch 134/300\n",
            "10/10 [==============================] - 0s 3ms/step - loss: 0.1342 - val_loss: 0.1206\n",
            "Epoch 135/300\n",
            "10/10 [==============================] - 0s 3ms/step - loss: 0.1349 - val_loss: 0.0899\n",
            "Epoch 136/300\n",
            "10/10 [==============================] - 0s 3ms/step - loss: 0.1319 - val_loss: 0.0880\n",
            "Epoch 137/300\n",
            "10/10 [==============================] - 0s 3ms/step - loss: 0.1500 - val_loss: 0.1157\n",
            "Epoch 138/300\n",
            "10/10 [==============================] - 0s 3ms/step - loss: 0.1050 - val_loss: 0.0756\n",
            "Epoch 139/300\n",
            "10/10 [==============================] - 0s 4ms/step - loss: 0.0919 - val_loss: 0.0710\n",
            "Epoch 140/300\n",
            "10/10 [==============================] - 0s 3ms/step - loss: 0.0881 - val_loss: 0.0712\n",
            "Epoch 141/300\n",
            "10/10 [==============================] - 0s 3ms/step - loss: 0.1024 - val_loss: 0.0741\n",
            "Epoch 142/300\n",
            "10/10 [==============================] - 0s 3ms/step - loss: 0.1658 - val_loss: 0.1681\n",
            "Epoch 143/300\n",
            "10/10 [==============================] - 0s 4ms/step - loss: 0.2489 - val_loss: 0.1164\n",
            "Epoch 144/300\n",
            "10/10 [==============================] - 0s 3ms/step - loss: 0.2200 - val_loss: 0.1277\n",
            "Epoch 145/300\n",
            "10/10 [==============================] - 0s 3ms/step - loss: 0.1427 - val_loss: 0.0719\n",
            "Epoch 146/300\n",
            "10/10 [==============================] - 0s 3ms/step - loss: 0.1016 - val_loss: 0.0951\n",
            "Epoch 147/300\n",
            "10/10 [==============================] - 0s 4ms/step - loss: 0.0969 - val_loss: 0.0786\n",
            "Epoch 148/300\n",
            "10/10 [==============================] - 0s 4ms/step - loss: 0.0826 - val_loss: 0.0711\n",
            "Epoch 149/300\n",
            "10/10 [==============================] - 0s 4ms/step - loss: 0.0806 - val_loss: 0.0651\n",
            "Epoch 150/300\n",
            "10/10 [==============================] - 0s 4ms/step - loss: 0.0770 - val_loss: 0.0668\n",
            "Epoch 151/300\n",
            "10/10 [==============================] - 0s 4ms/step - loss: 0.0745 - val_loss: 0.0710\n",
            "Epoch 152/300\n",
            "10/10 [==============================] - 0s 4ms/step - loss: 0.0752 - val_loss: 0.0684\n",
            "Epoch 153/300\n",
            "10/10 [==============================] - 0s 3ms/step - loss: 0.0739 - val_loss: 0.0604\n",
            "Epoch 154/300\n",
            "10/10 [==============================] - 0s 3ms/step - loss: 0.0716 - val_loss: 0.0671\n",
            "Epoch 155/300\n",
            "10/10 [==============================] - 0s 3ms/step - loss: 0.0883 - val_loss: 0.2482\n",
            "Epoch 156/300\n",
            "10/10 [==============================] - 0s 3ms/step - loss: 0.4101 - val_loss: 0.1135\n",
            "Epoch 157/300\n",
            "10/10 [==============================] - 0s 4ms/step - loss: 0.4788 - val_loss: 0.1657\n",
            "Epoch 158/300\n",
            "10/10 [==============================] - 0s 3ms/step - loss: 0.2882 - val_loss: 0.4077\n",
            "Epoch 159/300\n",
            "10/10 [==============================] - 0s 3ms/step - loss: 0.2870 - val_loss: 0.3004\n",
            "Epoch 160/300\n",
            "10/10 [==============================] - 0s 3ms/step - loss: 0.2456 - val_loss: 0.1414\n",
            "Epoch 161/300\n",
            "10/10 [==============================] - 0s 3ms/step - loss: 0.1361 - val_loss: 0.0762\n",
            "Epoch 162/300\n",
            "10/10 [==============================] - 0s 3ms/step - loss: 0.1044 - val_loss: 0.0974\n",
            "Epoch 163/300\n",
            "10/10 [==============================] - 0s 3ms/step - loss: 0.0922 - val_loss: 0.0864\n",
            "Epoch 164/300\n",
            "10/10 [==============================] - 0s 3ms/step - loss: 0.1018 - val_loss: 0.0910\n",
            "Epoch 165/300\n",
            "10/10 [==============================] - 0s 3ms/step - loss: 0.1166 - val_loss: 0.0596\n",
            "Epoch 166/300\n",
            "10/10 [==============================] - 0s 3ms/step - loss: 0.1398 - val_loss: 0.1191\n",
            "Epoch 167/300\n",
            "10/10 [==============================] - 0s 3ms/step - loss: 0.1082 - val_loss: 0.0752\n",
            "Epoch 168/300\n",
            "10/10 [==============================] - 0s 3ms/step - loss: 0.0956 - val_loss: 0.0698\n",
            "Epoch 169/300\n",
            "10/10 [==============================] - 0s 3ms/step - loss: 0.0867 - val_loss: 0.0660\n",
            "Epoch 170/300\n",
            "10/10 [==============================] - 0s 3ms/step - loss: 0.0797 - val_loss: 0.0648\n",
            "Epoch 171/300\n",
            "10/10 [==============================] - 0s 3ms/step - loss: 0.0819 - val_loss: 0.0590\n",
            "Epoch 172/300\n",
            "10/10 [==============================] - 0s 3ms/step - loss: 0.0777 - val_loss: 0.0739\n",
            "Epoch 173/300\n",
            "10/10 [==============================] - 0s 3ms/step - loss: 0.0865 - val_loss: 0.0824\n",
            "Epoch 174/300\n",
            "10/10 [==============================] - 0s 3ms/step - loss: 0.0812 - val_loss: 0.0589\n",
            "Epoch 175/300\n",
            "10/10 [==============================] - 0s 3ms/step - loss: 0.1018 - val_loss: 0.0759\n",
            "Epoch 176/300\n",
            "10/10 [==============================] - 0s 3ms/step - loss: 0.0948 - val_loss: 0.0612\n",
            "Epoch 177/300\n",
            "10/10 [==============================] - 0s 3ms/step - loss: 0.0812 - val_loss: 0.0600\n",
            "Epoch 178/300\n",
            "10/10 [==============================] - 0s 3ms/step - loss: 0.0848 - val_loss: 0.0804\n",
            "Epoch 179/300\n",
            "10/10 [==============================] - 0s 3ms/step - loss: 0.0974 - val_loss: 0.0794\n",
            "Epoch 180/300\n",
            "10/10 [==============================] - 0s 4ms/step - loss: 0.5164 - val_loss: 0.1253\n",
            "Epoch 181/300\n",
            "10/10 [==============================] - 0s 4ms/step - loss: 0.2279 - val_loss: 0.1290\n",
            "Epoch 182/300\n",
            "10/10 [==============================] - 0s 3ms/step - loss: 0.2260 - val_loss: 0.1185\n",
            "Epoch 183/300\n",
            "10/10 [==============================] - 0s 3ms/step - loss: 0.1878 - val_loss: 0.3584\n",
            "Epoch 184/300\n",
            "10/10 [==============================] - 0s 3ms/step - loss: 0.1910 - val_loss: 0.0714\n",
            "Epoch 185/300\n",
            "10/10 [==============================] - 0s 3ms/step - loss: 0.1200 - val_loss: 0.0656\n",
            "Epoch 186/300\n",
            "10/10 [==============================] - 0s 3ms/step - loss: 0.1018 - val_loss: 0.0790\n",
            "Epoch 187/300\n",
            "10/10 [==============================] - 0s 3ms/step - loss: 0.0804 - val_loss: 0.0643\n",
            "Epoch 188/300\n",
            "10/10 [==============================] - 0s 3ms/step - loss: 0.0747 - val_loss: 0.0641\n",
            "Epoch 189/300\n",
            "10/10 [==============================] - 0s 3ms/step - loss: 0.0738 - val_loss: 0.0819\n",
            "Epoch 190/300\n",
            "10/10 [==============================] - 0s 3ms/step - loss: 0.0796 - val_loss: 0.0495\n",
            "Epoch 191/300\n",
            "10/10 [==============================] - 0s 4ms/step - loss: 0.0757 - val_loss: 0.0643\n",
            "Epoch 192/300\n",
            "10/10 [==============================] - 0s 3ms/step - loss: 0.0679 - val_loss: 0.0579\n",
            "Epoch 193/300\n",
            "10/10 [==============================] - 0s 3ms/step - loss: 0.0756 - val_loss: 0.0613\n",
            "Epoch 194/300\n",
            "10/10 [==============================] - 0s 3ms/step - loss: 0.0693 - val_loss: 0.0630\n",
            "Epoch 195/300\n",
            "10/10 [==============================] - 0s 3ms/step - loss: 0.0661 - val_loss: 0.0605\n",
            "Epoch 196/300\n",
            "10/10 [==============================] - 0s 3ms/step - loss: 0.0671 - val_loss: 0.0577\n",
            "Epoch 197/300\n",
            "10/10 [==============================] - 0s 4ms/step - loss: 0.0638 - val_loss: 0.0754\n",
            "Epoch 198/300\n",
            "10/10 [==============================] - 0s 4ms/step - loss: 0.0654 - val_loss: 0.0530\n",
            "Epoch 199/300\n",
            "10/10 [==============================] - 0s 3ms/step - loss: 0.0655 - val_loss: 0.0585\n",
            "Epoch 200/300\n",
            "10/10 [==============================] - 0s 3ms/step - loss: 0.0720 - val_loss: 0.0857\n",
            "Epoch 201/300\n",
            "10/10 [==============================] - 0s 4ms/step - loss: 0.0784 - val_loss: 0.0457\n",
            "Epoch 202/300\n",
            "10/10 [==============================] - 0s 4ms/step - loss: 0.0686 - val_loss: 0.0789\n",
            "Epoch 203/300\n",
            "10/10 [==============================] - 0s 4ms/step - loss: 0.0726 - val_loss: 0.0595\n",
            "Epoch 204/300\n",
            "10/10 [==============================] - 0s 3ms/step - loss: 0.1339 - val_loss: 0.1063\n",
            "Epoch 205/300\n",
            "10/10 [==============================] - 0s 3ms/step - loss: 0.1594 - val_loss: 0.0954\n",
            "Epoch 206/300\n",
            "10/10 [==============================] - 0s 4ms/step - loss: 0.1374 - val_loss: 0.0539\n",
            "Epoch 207/300\n",
            "10/10 [==============================] - 0s 4ms/step - loss: 0.0965 - val_loss: 0.0656\n",
            "Epoch 208/300\n",
            "10/10 [==============================] - 0s 3ms/step - loss: 0.0775 - val_loss: 0.0602\n",
            "Epoch 209/300\n",
            "10/10 [==============================] - 0s 4ms/step - loss: 0.0744 - val_loss: 0.0606\n",
            "Epoch 210/300\n",
            "10/10 [==============================] - 0s 3ms/step - loss: 0.0726 - val_loss: 0.0686\n",
            "Epoch 211/300\n",
            "10/10 [==============================] - 0s 3ms/step - loss: 0.0847 - val_loss: 0.0554\n",
            "Epoch 212/300\n",
            "10/10 [==============================] - 0s 3ms/step - loss: 0.0847 - val_loss: 0.0750\n",
            "Epoch 213/300\n",
            "10/10 [==============================] - 0s 3ms/step - loss: 0.0973 - val_loss: 0.0564\n",
            "Epoch 214/300\n",
            "10/10 [==============================] - 0s 3ms/step - loss: 0.0798 - val_loss: 0.0556\n",
            "Epoch 215/300\n",
            "10/10 [==============================] - 0s 3ms/step - loss: 0.0684 - val_loss: 0.0597\n",
            "Epoch 216/300\n",
            "10/10 [==============================] - 0s 3ms/step - loss: 0.0668 - val_loss: 0.0579\n",
            "Epoch 217/300\n",
            "10/10 [==============================] - 0s 3ms/step - loss: 0.0658 - val_loss: 0.0553\n",
            "Epoch 218/300\n",
            "10/10 [==============================] - 0s 4ms/step - loss: 0.0661 - val_loss: 0.0586\n",
            "Epoch 219/300\n",
            "10/10 [==============================] - 0s 3ms/step - loss: 0.0656 - val_loss: 0.0576\n",
            "Epoch 220/300\n",
            "10/10 [==============================] - 0s 4ms/step - loss: 0.0648 - val_loss: 0.0569\n",
            "Epoch 221/300\n",
            "10/10 [==============================] - 0s 4ms/step - loss: 0.0646 - val_loss: 0.0613\n",
            "Epoch 222/300\n",
            "10/10 [==============================] - 0s 3ms/step - loss: 0.0632 - val_loss: 0.0556\n",
            "Epoch 223/300\n",
            "10/10 [==============================] - 0s 3ms/step - loss: 0.0705 - val_loss: 0.0607\n",
            "Epoch 224/300\n",
            "10/10 [==============================] - 0s 3ms/step - loss: 0.0681 - val_loss: 0.0637\n",
            "Epoch 225/300\n",
            "10/10 [==============================] - 0s 4ms/step - loss: 0.0636 - val_loss: 0.0538\n",
            "Epoch 226/300\n",
            "10/10 [==============================] - 0s 4ms/step - loss: 0.0719 - val_loss: 0.0634\n",
            "Epoch 227/300\n",
            "10/10 [==============================] - 0s 3ms/step - loss: 0.0707 - val_loss: 0.0526\n",
            "Epoch 228/300\n",
            "10/10 [==============================] - 0s 3ms/step - loss: 0.0683 - val_loss: 0.0580\n",
            "Epoch 229/300\n",
            "10/10 [==============================] - 0s 3ms/step - loss: 0.0796 - val_loss: 0.0598\n",
            "Epoch 230/300\n",
            "10/10 [==============================] - 0s 4ms/step - loss: 0.0756 - val_loss: 0.0521\n",
            "Epoch 231/300\n",
            "10/10 [==============================] - 0s 4ms/step - loss: 0.0735 - val_loss: 0.0661\n",
            "Epoch 232/300\n",
            "10/10 [==============================] - 0s 4ms/step - loss: 0.0647 - val_loss: 0.0572\n",
            "Epoch 233/300\n",
            "10/10 [==============================] - 0s 3ms/step - loss: 0.0627 - val_loss: 0.0566\n",
            "Epoch 234/300\n",
            "10/10 [==============================] - 0s 3ms/step - loss: 0.0632 - val_loss: 0.0565\n",
            "Epoch 235/300\n",
            "10/10 [==============================] - 0s 3ms/step - loss: 0.0631 - val_loss: 0.0624\n",
            "Epoch 236/300\n",
            "10/10 [==============================] - 0s 3ms/step - loss: 0.0615 - val_loss: 0.0555\n",
            "Epoch 237/300\n",
            "10/10 [==============================] - 0s 3ms/step - loss: 0.0691 - val_loss: 0.0582\n",
            "Epoch 238/300\n",
            "10/10 [==============================] - 0s 3ms/step - loss: 0.0639 - val_loss: 0.0614\n",
            "Epoch 239/300\n",
            "10/10 [==============================] - 0s 4ms/step - loss: 0.0623 - val_loss: 0.0556\n",
            "Epoch 240/300\n",
            "10/10 [==============================] - 0s 3ms/step - loss: 0.0643 - val_loss: 0.0609\n",
            "Epoch 241/300\n",
            "10/10 [==============================] - 0s 3ms/step - loss: 0.0616 - val_loss: 0.0636\n",
            "Epoch 242/300\n",
            "10/10 [==============================] - 0s 3ms/step - loss: 0.0620 - val_loss: 0.0509\n",
            "Epoch 243/300\n",
            "10/10 [==============================] - 0s 3ms/step - loss: 0.0704 - val_loss: 0.0561\n",
            "Epoch 244/300\n",
            "10/10 [==============================] - 0s 3ms/step - loss: 0.0680 - val_loss: 0.0607\n",
            "Epoch 245/300\n",
            "10/10 [==============================] - 0s 3ms/step - loss: 0.0664 - val_loss: 0.0661\n",
            "Epoch 246/300\n",
            "10/10 [==============================] - 0s 3ms/step - loss: 0.0686 - val_loss: 0.0650\n",
            "Epoch 247/300\n",
            "10/10 [==============================] - 0s 3ms/step - loss: 0.0715 - val_loss: 0.0689\n",
            "Epoch 248/300\n",
            "10/10 [==============================] - 0s 3ms/step - loss: 0.0656 - val_loss: 0.0507\n",
            "Epoch 249/300\n",
            "10/10 [==============================] - 0s 3ms/step - loss: 0.0627 - val_loss: 0.0726\n",
            "Epoch 250/300\n",
            "10/10 [==============================] - 0s 3ms/step - loss: 0.0600 - val_loss: 0.0506\n",
            "Epoch 251/300\n",
            "10/10 [==============================] - 0s 3ms/step - loss: 0.0637 - val_loss: 0.0501\n",
            "Epoch 252/300\n",
            "10/10 [==============================] - 0s 4ms/step - loss: 0.0950 - val_loss: 0.0599\n",
            "Epoch 253/300\n",
            "10/10 [==============================] - 0s 3ms/step - loss: 0.0782 - val_loss: 0.0551\n",
            "Epoch 254/300\n",
            "10/10 [==============================] - 0s 3ms/step - loss: 0.0754 - val_loss: 0.0554\n",
            "Epoch 255/300\n",
            "10/10 [==============================] - 0s 3ms/step - loss: 0.0768 - val_loss: 0.0574\n",
            "Epoch 256/300\n",
            "10/10 [==============================] - 0s 3ms/step - loss: 0.0715 - val_loss: 0.0586\n",
            "Epoch 257/300\n",
            "10/10 [==============================] - 0s 4ms/step - loss: 0.0659 - val_loss: 0.0552\n",
            "Epoch 258/300\n",
            "10/10 [==============================] - 0s 3ms/step - loss: 0.0640 - val_loss: 0.0606\n",
            "Epoch 259/300\n",
            "10/10 [==============================] - 0s 3ms/step - loss: 0.0630 - val_loss: 0.0558\n",
            "Epoch 260/300\n",
            "10/10 [==============================] - 0s 3ms/step - loss: 0.0632 - val_loss: 0.0587\n",
            "Epoch 261/300\n",
            "10/10 [==============================] - 0s 4ms/step - loss: 0.0618 - val_loss: 0.0598\n",
            "Epoch 262/300\n",
            "10/10 [==============================] - 0s 3ms/step - loss: 0.0610 - val_loss: 0.0646\n",
            "Epoch 263/300\n",
            "10/10 [==============================] - 0s 4ms/step - loss: 0.0614 - val_loss: 0.0569\n",
            "Epoch 264/300\n",
            "10/10 [==============================] - 0s 3ms/step - loss: 0.0613 - val_loss: 0.0724\n",
            "Epoch 265/300\n",
            "10/10 [==============================] - 0s 3ms/step - loss: 0.0692 - val_loss: 0.0565\n",
            "Epoch 266/300\n",
            "10/10 [==============================] - 0s 3ms/step - loss: 0.0626 - val_loss: 0.0623\n",
            "Epoch 267/300\n",
            "10/10 [==============================] - 0s 4ms/step - loss: 0.0604 - val_loss: 0.0538\n",
            "Epoch 268/300\n",
            "10/10 [==============================] - 0s 3ms/step - loss: 0.0605 - val_loss: 0.0603\n",
            "Epoch 269/300\n",
            "10/10 [==============================] - 0s 3ms/step - loss: 0.0663 - val_loss: 0.0480\n",
            "Epoch 270/300\n",
            "10/10 [==============================] - 0s 3ms/step - loss: 0.0628 - val_loss: 0.0602\n",
            "Epoch 271/300\n",
            "10/10 [==============================] - 0s 3ms/step - loss: 0.0607 - val_loss: 0.0676\n",
            "Epoch 272/300\n",
            "10/10 [==============================] - 0s 4ms/step - loss: 0.0612 - val_loss: 0.0605\n",
            "Epoch 273/300\n",
            "10/10 [==============================] - 0s 4ms/step - loss: 0.0602 - val_loss: 0.0586\n",
            "Epoch 274/300\n",
            "10/10 [==============================] - 0s 4ms/step - loss: 0.0606 - val_loss: 0.0574\n",
            "Epoch 275/300\n",
            "10/10 [==============================] - 0s 3ms/step - loss: 0.0570 - val_loss: 0.0677\n",
            "Epoch 276/300\n",
            "10/10 [==============================] - 0s 3ms/step - loss: 0.0564 - val_loss: 0.0552\n",
            "Epoch 277/300\n",
            "10/10 [==============================] - 0s 3ms/step - loss: 0.0580 - val_loss: 0.0521\n",
            "Epoch 278/300\n",
            "10/10 [==============================] - 0s 4ms/step - loss: 0.0675 - val_loss: 0.0935\n",
            "Epoch 279/300\n",
            "10/10 [==============================] - 0s 4ms/step - loss: 0.0665 - val_loss: 0.0558\n",
            "Epoch 280/300\n",
            "10/10 [==============================] - 0s 4ms/step - loss: 0.0602 - val_loss: 0.0682\n",
            "Epoch 281/300\n",
            "10/10 [==============================] - 0s 4ms/step - loss: 0.0636 - val_loss: 0.0577\n",
            "Epoch 282/300\n",
            "10/10 [==============================] - 0s 4ms/step - loss: 0.0619 - val_loss: 0.0645\n",
            "Epoch 283/300\n",
            "10/10 [==============================] - 0s 3ms/step - loss: 0.0631 - val_loss: 0.0618\n",
            "Epoch 284/300\n",
            "10/10 [==============================] - 0s 3ms/step - loss: 0.0596 - val_loss: 0.0587\n",
            "Epoch 285/300\n",
            "10/10 [==============================] - 0s 4ms/step - loss: 0.0802 - val_loss: 0.0633\n",
            "Epoch 286/300\n",
            "10/10 [==============================] - 0s 3ms/step - loss: 0.0640 - val_loss: 0.0510\n",
            "Epoch 287/300\n",
            "10/10 [==============================] - 0s 4ms/step - loss: 0.0648 - val_loss: 0.0541\n",
            "Epoch 288/300\n",
            "10/10 [==============================] - 0s 3ms/step - loss: 0.0626 - val_loss: 0.0537\n",
            "Epoch 289/300\n",
            "10/10 [==============================] - 0s 3ms/step - loss: 0.0601 - val_loss: 0.0619\n",
            "Epoch 290/300\n",
            "10/10 [==============================] - 0s 3ms/step - loss: 0.0596 - val_loss: 0.0585\n",
            "Epoch 291/300\n",
            "10/10 [==============================] - 0s 4ms/step - loss: 0.0574 - val_loss: 0.0542\n",
            "Epoch 292/300\n",
            "10/10 [==============================] - 0s 3ms/step - loss: 0.0566 - val_loss: 0.0560\n",
            "Epoch 293/300\n",
            "10/10 [==============================] - 0s 3ms/step - loss: 0.0539 - val_loss: 0.0590\n",
            "Epoch 294/300\n",
            "10/10 [==============================] - 0s 3ms/step - loss: 0.0553 - val_loss: 0.0478\n",
            "Epoch 295/300\n",
            "10/10 [==============================] - 0s 3ms/step - loss: 0.0708 - val_loss: 0.0772\n",
            "Epoch 296/300\n",
            "10/10 [==============================] - 0s 3ms/step - loss: 0.0717 - val_loss: 0.0604\n",
            "Epoch 297/300\n",
            "10/10 [==============================] - 0s 4ms/step - loss: 0.0779 - val_loss: 0.0869\n",
            "Epoch 298/300\n",
            "10/10 [==============================] - 0s 4ms/step - loss: 0.0826 - val_loss: 0.0513\n",
            "Epoch 299/300\n",
            "10/10 [==============================] - 0s 3ms/step - loss: 0.0602 - val_loss: 0.0529\n",
            "Epoch 300/300\n",
            "10/10 [==============================] - 0s 4ms/step - loss: 0.0599 - val_loss: 0.0566\n"
          ],
          "name": "stdout"
        }
      ]
    },
    {
      "cell_type": "code",
      "metadata": {
        "id": "llXIizO68-X_",
        "outputId": "94c4e2a9-45d4-4384-9c38-0c3ede5dfb6d",
        "colab": {
          "base_uri": "https://localhost:8080/",
          "height": 295
        }
      },
      "source": [
        "import matplotlib.pyplot as plt\n",
        "\n",
        "plt.plot(history.history['loss'][0:300])\n",
        "plt.plot(history.history['val_loss'][0:300])\n",
        "plt.title('model loss')\n",
        "plt.ylabel('loss')\n",
        "plt.xlabel('epoch')\n",
        "plt.legend(['train', 'test'], loc='upper left')\n",
        "plt.show()"
      ],
      "execution_count": 10,
      "outputs": [
        {
          "output_type": "display_data",
          "data": {
            "image/png": "[encoded data removed]",
            "text/plain": [
              "<Figure size 432x288 with 1 Axes>"
            ]
          },
          "metadata": {
            "tags": [],
            "needs_background": "light"
          }
        }
      ]
    },
    {
      "cell_type": "markdown",
      "metadata": {
        "id": "kY2uVg90mQEo"
      },
      "source": [
        "## Convertendo os resultados binários para o nome dos acidentes"
      ]
    },
    {
      "cell_type": "code",
      "metadata": {
        "id": "9Svp5tnZ3KBE"
      },
      "source": [
        "saidasPrevistas = model.predict(entradasTeste)"
      ],
      "execution_count": 11,
      "outputs": []
    },
    {
      "cell_type": "code",
      "metadata": {
        "id": "xQpFed8vmQEp"
      },
      "source": [
        "# Convertendo os resultados das saídas previstas para 0 e 1\n",
        "for i in range(len(saidasPrevistas)):\n",
        "  for j in range(len(saidasPrevistas[0])):\n",
        "    saidasPrevistas[i][j] = round(saidasPrevistas[i][j],0)\n",
        "\n",
        "# Convertendo os números binários para o nome dos acidentes correspondentes\n",
        "saidasPrevistas = list(saidasPrevistas)\n",
        "saidasTeste = list(saidasTeste)\n",
        "for i in range(len(saidasPrevistas)):\n",
        "    if saidasPrevistas[i][0] == 1 and saidasPrevistas[i][1] == 0 and saidasPrevistas[i][2] == 0 and saidasPrevistas[i][3] == 0:\n",
        "      saidasPrevistas[i] = 'blacksem'\n",
        "    elif saidasPrevistas[i][0] == 0 and saidasPrevistas[i][1] == 1 and saidasPrevistas[i][2] == 0 and saidasPrevistas[i][3] == 0:\n",
        "      saidasPrevistas[i] = 'mefwisem'\n",
        "    elif saidasPrevistas[i][0] == 0 and saidasPrevistas[i][1] == 0 and saidasPrevistas[i][2] == 1 and saidasPrevistas[i][3] == 0:\n",
        "      saidasPrevistas[i] = 'mfwbr'\n",
        "    elif saidasPrevistas[i][0] == 0 and saidasPrevistas[i][1] == 0 and saidasPrevistas[i][2] == 0 and saidasPrevistas[i][3] == 1:\n",
        "      saidasPrevistas[i] = 'mfwisem'\n",
        "    else:\n",
        "      saidasPrevistas[i] = 'nenhum'\n",
        "\n",
        "for i in range(len(saidasTeste)):\n",
        "    if saidasTeste[i][0] == 1 and saidasTeste[i][1] == 0 and saidasTeste[i][2] == 0 and saidasTeste[i][3] == 0:\n",
        "      saidasTeste[i] = 'blacksem'\n",
        "    elif saidasTeste[i][0] == 0 and saidasTeste[i][1] == 1 and saidasTeste[i][2] == 0 and saidasTeste[i][3] == 0:\n",
        "      saidasTeste[i] = 'mefwisem'\n",
        "    elif saidasTeste[i][0] == 0 and saidasTeste[i][1] == 0 and saidasTeste[i][2] == 1 and saidasTeste[i][3] == 0:\n",
        "      saidasTeste[i] = 'mfwbr'\n",
        "    elif saidasTeste[i][0] == 0 and saidasTeste[i][1] == 0 and saidasTeste[i][2] == 0 and saidasTeste[i][3] == 1:\n",
        "      saidasTeste[i] = 'mfwisem'"
      ],
      "execution_count": 12,
      "outputs": []
    },
    {
      "cell_type": "markdown",
      "metadata": {
        "id": "TGeXepEz4I-u"
      },
      "source": [
        "## Criando listas 'acidentes' e 'quantidade de acidentes' para os conjuntos 'previsto' e 'teste'"
      ]
    },
    {
      "cell_type": "code",
      "metadata": {
        "id": "qWz5Ng9k4IDO"
      },
      "source": [
        "acidentes = ['blacksem','mefwisem','mfwbr','mfwisem','nenhum']\n",
        "acidentes_prev = [0,0,0,0,0]\n",
        "for i in range(len(saidasPrevistas)):\n",
        "  if saidasPrevistas[i] in acidentes:\n",
        "    if saidasPrevistas[i] == 'blacksem':\n",
        "      acidentes_prev[0] += 1\n",
        "    elif saidasPrevistas[i] == 'mefwisem':\n",
        "      acidentes_prev[1] += 1\n",
        "    elif saidasPrevistas[i] == 'mfwbr':\n",
        "      acidentes_prev[2] += 1\n",
        "    elif saidasPrevistas[i] == 'mfwisem':\n",
        "      acidentes_prev[3] += 1\n",
        "    else:\n",
        "      acidentes_prev[4] += 1\n",
        "      \n",
        "acidentes_teste = [0,0,0,0,0]\n",
        "for i in range(len(saidasTeste)):\n",
        "  if saidasTeste[i] in acidentes:\n",
        "    if saidasTeste[i] == 'blacksem':\n",
        "      acidentes_teste[0] += 1\n",
        "    elif saidasTeste[i] == 'mefwisem':\n",
        "      acidentes_teste[1] += 1\n",
        "    elif saidasTeste[i] == 'mfwbr':\n",
        "      acidentes_teste[2] += 1\n",
        "    elif saidasTeste[i] == 'mfwisem':\n",
        "      acidentes_teste[3] += 1\n",
        "    else:\n",
        "      acidentes_teste[4] += 1"
      ],
      "execution_count": 13,
      "outputs": []
    },
    {
      "cell_type": "markdown",
      "metadata": {
        "id": "IBkKeVjneDZR"
      },
      "source": [
        "## Avaliando resultados"
      ]
    },
    {
      "cell_type": "code",
      "metadata": {
        "id": "HmNe5C1KeHVO",
        "outputId": "59936bc6-942f-4325-8b55-f95d7c7d06c7",
        "colab": {
          "base_uri": "https://localhost:8080/",
          "height": 35
        }
      },
      "source": [
        "acertos = 0\n",
        "for i in range(len(saidasTeste)):\n",
        "  if saidasTeste[i] == saidasPrevistas[i]:\n",
        "    acertos += 1\n",
        "porcent = (acertos/len(saidasTeste))*100\n",
        "print(\"Porcentagem de acertos: %f %%\" %porcent)"
      ],
      "execution_count": 14,
      "outputs": [
        {
          "output_type": "stream",
          "text": [
            "Porcentagem de acertos: 95.238095 %\n"
          ],
          "name": "stdout"
        }
      ]
    },
    {
      "cell_type": "code",
      "metadata": {
        "id": "7XTukCmzmQEu",
        "outputId": "2fc48703-6b51-4763-ba84-cb9f6f1f3946",
        "colab": {
          "base_uri": "https://localhost:8080/",
          "height": 402
        }
      },
      "source": [
        "fig, (graf1, graf2) = plt.subplots(1, 2, figsize=(15,5))\n",
        "graf1.bar(acidentes, acidentes_prev)\n",
        "graf1.grid('True')\n",
        "graf2.bar(acidentes, acidentes_teste)\n",
        "graf2.grid('True')\n",
        "graf1.set(title='Acidentes Previstos', xlabel='Acidentes', ylabel='Quantidade')\n",
        "graf2.set(title='Acidentes Teste', xlabel='Acidentes', ylabel='Quantidade')"
      ],
      "execution_count": 15,
      "outputs": [
        {
          "output_type": "execute_result",
          "data": {
            "text/plain": [
              "[Text(0, 0.5, 'Quantidade'),\n",
              " Text(0.5, 0, 'Acidentes'),\n",
              " Text(0.5, 1.0, 'Acidentes Teste')]"
            ]
          },
          "metadata": {
            "tags": []
          },
          "execution_count": 15
        },
        {
          "output_type": "display_data",
          "data": {
            "image/png": "[encoded data removed]",
            "text/plain": [
              "<Figure size 1080x360 with 2 Axes>"
            ]
          },
          "metadata": {
            "tags": [],
            "needs_background": "light"
          }
        }
      ]
    }
  ]
}