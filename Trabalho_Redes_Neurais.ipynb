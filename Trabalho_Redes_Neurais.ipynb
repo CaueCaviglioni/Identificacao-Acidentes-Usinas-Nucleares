{
  "nbformat": 4,
  "nbformat_minor": 0,
  "metadata": {
    "accelerator": "GPU",
    "colab": {
      "name": "Trabalho_Redes_Neurais.ipynb",
      "provenance": [],
      "collapsed_sections": []
    },
    "kernelspec": {
      "display_name": "Python 3",
      "language": "python",
      "name": "python3"
    },
    "language_info": {
      "codemirror_mode": {
        "name": "ipython",
        "version": 3
      },
      "file_extension": ".py",
      "mimetype": "text/x-python",
      "name": "python",
      "nbconvert_exporter": "python",
      "pygments_lexer": "ipython3",
      "version": "3.7.7"
    }
  },
  "cells": [
    {
      "cell_type": "markdown",
      "metadata": {
        "id": "dfyIirJMmQEB"
      },
      "source": [
        "# Rede Neural para Acidentes em uma Usina Nuclear"
      ]
    },
    {
      "cell_type": "markdown",
      "metadata": {
        "id": "5P6NImUAmQEC"
      },
      "source": [
        "## Bibliotecas usadas na implementação da rede"
      ]
    },
    {
      "cell_type": "code",
      "metadata": {
        "id": "Mg_krSP4mQEC"
      },
      "source": [
        "import numpy as np # será usada para mexer com vetores e matrizes\n",
        "import pandas as pd # será usada para mexer com o arquivo Excel\n",
        "import matplotlib.pyplot as plt # será usada para mostrar os gráficos desejados\n",
        "from sklearn.preprocessing import MinMaxScaler # será usada para normalizar os dados do Excel\n",
        "from sklearn.preprocessing import LabelBinarizer # será usada para transformar os acidentes em binários\n",
        "from sklearn.model_selection import train_test_split # será usada para dividir o conjunto de dados do arquivo Excel\n",
        "from tensorflow import random \n",
        "from tensorflow.keras import layers, models, optimizers # será usada na construção da rede\n",
        "\n",
        "seed = 1\n",
        "np.random.seed(seed)\n",
        "random.set_seed(seed)"
      ],
      "execution_count": 1,
      "outputs": []
    },
    {
      "cell_type": "markdown",
      "metadata": {
        "id": "z_imqEEHmQEG"
      },
      "source": [
        "## Abrindo o arquivo Excel para leitura"
      ]
    },
    {
      "cell_type": "code",
      "metadata": {
        "id": "qCBJvBIBmQEG"
      },
      "source": [
        "dados = pd.read_excel(\"/content/sample_data/dados_trabalho.xlsx\")"
      ],
      "execution_count": 2,
      "outputs": []
    },
    {
      "cell_type": "markdown",
      "metadata": {
        "id": "nOGjITvWmQEI"
      },
      "source": [
        "## Selecionando os dados de entrada/saída"
      ]
    },
    {
      "cell_type": "code",
      "metadata": {
        "id": "vkrvyd94mQEJ"
      },
      "source": [
        "entradas = dados.iloc[:,0:17]\n",
        "saidas = dados.iloc[:,-1]"
      ],
      "execution_count": 3,
      "outputs": []
    },
    {
      "cell_type": "markdown",
      "metadata": {
        "id": "I69WkrYOmQEM"
      },
      "source": [
        "## Selecionando os dados que serão usados para treinamento, teste e validação"
      ]
    },
    {
      "cell_type": "code",
      "metadata": {
        "id": "QJncwbWrmQEM",
        "outputId": "590879ce-e7db-42db-c68d-e45060da8c2c",
        "colab": {
          "base_uri": "https://localhost:8080/",
          "height": 70
        }
      },
      "source": [
        "entradasTreino, entradasTeste, saidasTreino, saidasTeste = train_test_split(entradas, saidas, test_size=0.2)\n",
        "entradasTreino, entradasValid, saidasTreino, saidasValid = train_test_split(entradasTreino, saidasTreino, test_size=0.2)\n",
        "print(\"Quantidade de entradas para treinamento da rede: \", len(entradasTreino))\n",
        "print(\"Quantidade de entradas para teste da rede: \", len(entradasTeste))\n",
        "print(\"Quantidade de entradas para validação dade rede: \", len(entradasValid))"
      ],
      "execution_count": 4,
      "outputs": [
        {
          "output_type": "stream",
          "text": [
            "Quantidade de entradas para treinamento da rede:  468\n",
            "Quantidade de entradas para teste da rede:  147\n",
            "Quantidade de entradas para validação dade rede:  117\n"
          ],
          "name": "stdout"
        }
      ]
    },
    {
      "cell_type": "markdown",
      "metadata": {
        "id": "9EHGP50VmQES"
      },
      "source": [
        "## Normalizando os dados de entrada e transformando os nomes dos acidentes em números binários"
      ]
    },
    {
      "cell_type": "code",
      "metadata": {
        "id": "g0DxTUtdmQEW"
      },
      "source": [
        "normalizer = MinMaxScaler(feature_range = (0, 1))\n",
        "entradasTreino = normalizer.fit_transform(entradasTreino)\n",
        "entradasValid = normalizer.transform(entradasValid)\n",
        "entradasTeste = normalizer.transform(entradasTeste)\n",
        "\n",
        "lb = LabelBinarizer()\n",
        "saidasTreino = lb.fit_transform(saidasTreino)\n",
        "saidasValid = lb.transform(saidasValid)\n",
        "saidasTeste = lb.transform(saidasTeste)"
      ],
      "execution_count": 6,
      "outputs": []
    },
    {
      "cell_type": "markdown",
      "metadata": {
        "id": "jlZj-Q2fmQEZ"
      },
      "source": [
        "## Definindo as quantidades de entradas, saídas, neurônios, funções de ativação, tipo de otimizador, função erro, tamanho do batch e o número de épocas"
      ]
    },
    {
      "cell_type": "code",
      "metadata": {
        "id": "yR2icT55mQEZ"
      },
      "source": [
        "quant_entradas = entradasTreino.shape[1]\n",
        "quant_saidas = saidasTreino.shape[1]\n",
        "quant_neuronios = 30\n",
        "funcaoAtivacao = \"sigmoid\"\n",
        "funcaoSaida = \"softmax\"\n",
        "optimizer = optimizers.Adam(lr=0.01, beta_1=0.9, beta_2=0.999, epsilon=1E-8, decay=0.0)\n",
        "funcaoErro ='categorical_crossentropy'\n",
        "batelada = 50\n",
        "epocas =  300"
      ],
      "execution_count": 7,
      "outputs": []
    },
    {
      "cell_type": "markdown",
      "metadata": {
        "id": "hyR1nbC9mQEb"
      },
      "source": [
        "## Estrutrando a rede"
      ]
    },
    {
      "cell_type": "code",
      "metadata": {
        "id": "rBWcXZMOmQEc"
      },
      "source": [
        "model = models.Sequential()\n",
        "# Camada de entrada e camada escondida 1\n",
        "model.add(layers.Dense(quant_neuronios, activation=funcaoAtivacao, input_dim=quant_entradas))\n",
        "# Camada Escondida 2\n",
        "model.add(layers.Dense(quant_neuronios, activation=funcaoAtivacao))\n",
        "# Camada de Saída\n",
        "model.add(layers.Dense(quant_saidas, activation=funcaoSaida))"
      ],
      "execution_count": 8,
      "outputs": []
    },
    {
      "cell_type": "markdown",
      "metadata": {
        "id": "v1x1MDqzmQEe"
      },
      "source": [
        "## Compilando a rede neural"
      ]
    },
    {
      "cell_type": "code",
      "metadata": {
        "id": "lHg4nKQNmQEe"
      },
      "source": [
        "model.compile(loss=funcaoErro, optimizer=optimizer)"
      ],
      "execution_count": 9,
      "outputs": []
    },
    {
      "cell_type": "markdown",
      "metadata": {
        "id": "C2hI9Om1mQEl"
      },
      "source": [
        "## Treinando a rede neural"
      ]
    },
    {
      "cell_type": "code",
      "metadata": {
        "id": "u_Z2tHH3mQEl",
        "outputId": "63be601a-ba2f-4443-e2e4-8915a702b8e8",
        "colab": {
          "base_uri": "https://localhost:8080/",
          "height": 1000
        }
      },
      "source": [
        "history = model.fit(entradasTreino, saidasTreino, epochs=epocas, batch_size=batelada, validation_data=(entradasValid, saidasValid), shuffle=True,\n",
        "          verbose=1)"
      ],
      "execution_count": 10,
      "outputs": [
        {
          "output_type": "stream",
          "text": [
            "Epoch 1/300\n",
            "10/10 [==============================] - 0s 15ms/step - loss: 1.3948 - val_loss: 1.3181\n",
            "Epoch 2/300\n",
            "10/10 [==============================] - 0s 4ms/step - loss: 1.2860 - val_loss: 1.1920\n",
            "Epoch 3/300\n",
            "10/10 [==============================] - 0s 3ms/step - loss: 1.1698 - val_loss: 1.0207\n",
            "Epoch 4/300\n",
            "10/10 [==============================] - 0s 3ms/step - loss: 0.9902 - val_loss: 0.8583\n",
            "Epoch 5/300\n",
            "10/10 [==============================] - 0s 3ms/step - loss: 0.8583 - val_loss: 0.7336\n",
            "Epoch 6/300\n",
            "10/10 [==============================] - 0s 3ms/step - loss: 0.7525 - val_loss: 0.6413\n",
            "Epoch 7/300\n",
            "10/10 [==============================] - 0s 3ms/step - loss: 0.6887 - val_loss: 0.5838\n",
            "Epoch 8/300\n",
            "10/10 [==============================] - 0s 4ms/step - loss: 0.6520 - val_loss: 0.5473\n",
            "Epoch 9/300\n",
            "10/10 [==============================] - 0s 3ms/step - loss: 0.6268 - val_loss: 0.5180\n",
            "Epoch 10/300\n",
            "10/10 [==============================] - 0s 4ms/step - loss: 0.6094 - val_loss: 0.4878\n",
            "Epoch 11/300\n",
            "10/10 [==============================] - 0s 3ms/step - loss: 0.5812 - val_loss: 0.4655\n",
            "Epoch 12/300\n",
            "10/10 [==============================] - 0s 4ms/step - loss: 0.5632 - val_loss: 0.4549\n",
            "Epoch 13/300\n",
            "10/10 [==============================] - 0s 4ms/step - loss: 0.5495 - val_loss: 0.4313\n",
            "Epoch 14/300\n",
            "10/10 [==============================] - 0s 4ms/step - loss: 0.5345 - val_loss: 0.4331\n",
            "Epoch 15/300\n",
            "10/10 [==============================] - 0s 4ms/step - loss: 0.5275 - val_loss: 0.4072\n",
            "Epoch 16/300\n",
            "10/10 [==============================] - 0s 4ms/step - loss: 0.5225 - val_loss: 0.4096\n",
            "Epoch 17/300\n",
            "10/10 [==============================] - 0s 4ms/step - loss: 0.5096 - val_loss: 0.4091\n",
            "Epoch 18/300\n",
            "10/10 [==============================] - 0s 4ms/step - loss: 0.5093 - val_loss: 0.3945\n",
            "Epoch 19/300\n",
            "10/10 [==============================] - 0s 4ms/step - loss: 0.5011 - val_loss: 0.3898\n",
            "Epoch 20/300\n",
            "10/10 [==============================] - 0s 4ms/step - loss: 0.5092 - val_loss: 0.3881\n",
            "Epoch 21/300\n",
            "10/10 [==============================] - 0s 4ms/step - loss: 0.4930 - val_loss: 0.3890\n",
            "Epoch 22/300\n",
            "10/10 [==============================] - 0s 4ms/step - loss: 0.5101 - val_loss: 0.4089\n",
            "Epoch 23/300\n",
            "10/10 [==============================] - 0s 4ms/step - loss: 0.4958 - val_loss: 0.3874\n",
            "Epoch 24/300\n",
            "10/10 [==============================] - 0s 4ms/step - loss: 0.4963 - val_loss: 0.3913\n",
            "Epoch 25/300\n",
            "10/10 [==============================] - 0s 4ms/step - loss: 0.4912 - val_loss: 0.3747\n",
            "Epoch 26/300\n",
            "10/10 [==============================] - 0s 4ms/step - loss: 0.4835 - val_loss: 0.3808\n",
            "Epoch 27/300\n",
            "10/10 [==============================] - 0s 5ms/step - loss: 0.4808 - val_loss: 0.3741\n",
            "Epoch 28/300\n",
            "10/10 [==============================] - 0s 4ms/step - loss: 0.4945 - val_loss: 0.3772\n",
            "Epoch 29/300\n",
            "10/10 [==============================] - 0s 4ms/step - loss: 0.4859 - val_loss: 0.3755\n",
            "Epoch 30/300\n",
            "10/10 [==============================] - 0s 3ms/step - loss: 0.4871 - val_loss: 0.3695\n",
            "Epoch 31/300\n",
            "10/10 [==============================] - 0s 3ms/step - loss: 0.4842 - val_loss: 0.3749\n",
            "Epoch 32/300\n",
            "10/10 [==============================] - 0s 3ms/step - loss: 0.4872 - val_loss: 0.3832\n",
            "Epoch 33/300\n",
            "10/10 [==============================] - 0s 3ms/step - loss: 0.4782 - val_loss: 0.3829\n",
            "Epoch 34/300\n",
            "10/10 [==============================] - 0s 3ms/step - loss: 0.4799 - val_loss: 0.3873\n",
            "Epoch 35/300\n",
            "10/10 [==============================] - 0s 4ms/step - loss: 0.4712 - val_loss: 0.3781\n",
            "Epoch 36/300\n",
            "10/10 [==============================] - 0s 3ms/step - loss: 0.4729 - val_loss: 0.3636\n",
            "Epoch 37/300\n",
            "10/10 [==============================] - 0s 3ms/step - loss: 0.4684 - val_loss: 0.3689\n",
            "Epoch 38/300\n",
            "10/10 [==============================] - 0s 3ms/step - loss: 0.4631 - val_loss: 0.3633\n",
            "Epoch 39/300\n",
            "10/10 [==============================] - 0s 3ms/step - loss: 0.4624 - val_loss: 0.3601\n",
            "Epoch 40/300\n",
            "10/10 [==============================] - 0s 3ms/step - loss: 0.4713 - val_loss: 0.3653\n",
            "Epoch 41/300\n",
            "10/10 [==============================] - 0s 4ms/step - loss: 0.4730 - val_loss: 0.3652\n",
            "Epoch 42/300\n",
            "10/10 [==============================] - 0s 3ms/step - loss: 0.4779 - val_loss: 0.3697\n",
            "Epoch 43/300\n",
            "10/10 [==============================] - 0s 4ms/step - loss: 0.4749 - val_loss: 0.3647\n",
            "Epoch 44/300\n",
            "10/10 [==============================] - 0s 3ms/step - loss: 0.4518 - val_loss: 0.3543\n",
            "Epoch 45/300\n",
            "10/10 [==============================] - 0s 3ms/step - loss: 0.4574 - val_loss: 0.3628\n",
            "Epoch 46/300\n",
            "10/10 [==============================] - 0s 3ms/step - loss: 0.4469 - val_loss: 0.3616\n",
            "Epoch 47/300\n",
            "10/10 [==============================] - 0s 3ms/step - loss: 0.4440 - val_loss: 0.3580\n",
            "Epoch 48/300\n",
            "10/10 [==============================] - 0s 4ms/step - loss: 0.4432 - val_loss: 0.3638\n",
            "Epoch 49/300\n",
            "10/10 [==============================] - 0s 4ms/step - loss: 0.4464 - val_loss: 0.3623\n",
            "Epoch 50/300\n",
            "10/10 [==============================] - 0s 4ms/step - loss: 0.4485 - val_loss: 0.3590\n",
            "Epoch 51/300\n",
            "10/10 [==============================] - 0s 3ms/step - loss: 0.4448 - val_loss: 0.3580\n",
            "Epoch 52/300\n",
            "10/10 [==============================] - 0s 3ms/step - loss: 0.4580 - val_loss: 0.3567\n",
            "Epoch 53/300\n",
            "10/10 [==============================] - 0s 3ms/step - loss: 0.4539 - val_loss: 0.3509\n",
            "Epoch 54/300\n",
            "10/10 [==============================] - 0s 3ms/step - loss: 0.4597 - val_loss: 0.3570\n",
            "Epoch 55/300\n",
            "10/10 [==============================] - 0s 4ms/step - loss: 0.4342 - val_loss: 0.3567\n",
            "Epoch 56/300\n",
            "10/10 [==============================] - 0s 3ms/step - loss: 0.4326 - val_loss: 0.3546\n",
            "Epoch 57/300\n",
            "10/10 [==============================] - 0s 4ms/step - loss: 0.4340 - val_loss: 0.3566\n",
            "Epoch 58/300\n",
            "10/10 [==============================] - 0s 4ms/step - loss: 0.4401 - val_loss: 0.3581\n",
            "Epoch 59/300\n",
            "10/10 [==============================] - 0s 3ms/step - loss: 0.4306 - val_loss: 0.3504\n",
            "Epoch 60/300\n",
            "10/10 [==============================] - 0s 3ms/step - loss: 0.4314 - val_loss: 0.3605\n",
            "Epoch 61/300\n",
            "10/10 [==============================] - 0s 3ms/step - loss: 0.4305 - val_loss: 0.3631\n",
            "Epoch 62/300\n",
            "10/10 [==============================] - 0s 4ms/step - loss: 0.4308 - val_loss: 0.3519\n",
            "Epoch 63/300\n",
            "10/10 [==============================] - 0s 3ms/step - loss: 0.4298 - val_loss: 0.3553\n",
            "Epoch 64/300\n",
            "10/10 [==============================] - 0s 3ms/step - loss: 0.4347 - val_loss: 0.3593\n",
            "Epoch 65/300\n",
            "10/10 [==============================] - 0s 3ms/step - loss: 0.4265 - val_loss: 0.3491\n",
            "Epoch 66/300\n",
            "10/10 [==============================] - 0s 4ms/step - loss: 0.4212 - val_loss: 0.3524\n",
            "Epoch 67/300\n",
            "10/10 [==============================] - 0s 3ms/step - loss: 0.4250 - val_loss: 0.3531\n",
            "Epoch 68/300\n",
            "10/10 [==============================] - 0s 4ms/step - loss: 0.4218 - val_loss: 0.3720\n",
            "Epoch 69/300\n",
            "10/10 [==============================] - 0s 4ms/step - loss: 0.4181 - val_loss: 0.3406\n",
            "Epoch 70/300\n",
            "10/10 [==============================] - 0s 3ms/step - loss: 0.4306 - val_loss: 0.3723\n",
            "Epoch 71/300\n",
            "10/10 [==============================] - 0s 3ms/step - loss: 0.4209 - val_loss: 0.3415\n",
            "Epoch 72/300\n",
            "10/10 [==============================] - 0s 3ms/step - loss: 0.4260 - val_loss: 0.3716\n",
            "Epoch 73/300\n",
            "10/10 [==============================] - 0s 3ms/step - loss: 0.4156 - val_loss: 0.3431\n",
            "Epoch 74/300\n",
            "10/10 [==============================] - 0s 3ms/step - loss: 0.4176 - val_loss: 0.3594\n",
            "Epoch 75/300\n",
            "10/10 [==============================] - 0s 3ms/step - loss: 0.4128 - val_loss: 0.3555\n",
            "Epoch 76/300\n",
            "10/10 [==============================] - 0s 4ms/step - loss: 0.4133 - val_loss: 0.3542\n",
            "Epoch 77/300\n",
            "10/10 [==============================] - 0s 4ms/step - loss: 0.4108 - val_loss: 0.3538\n",
            "Epoch 78/300\n",
            "10/10 [==============================] - 0s 4ms/step - loss: 0.4101 - val_loss: 0.3518\n",
            "Epoch 79/300\n",
            "10/10 [==============================] - 0s 5ms/step - loss: 0.4112 - val_loss: 0.3581\n",
            "Epoch 80/300\n",
            "10/10 [==============================] - 0s 4ms/step - loss: 0.4112 - val_loss: 0.3452\n",
            "Epoch 81/300\n",
            "10/10 [==============================] - 0s 3ms/step - loss: 0.4094 - val_loss: 0.3512\n",
            "Epoch 82/300\n",
            "10/10 [==============================] - 0s 4ms/step - loss: 0.4074 - val_loss: 0.3585\n",
            "Epoch 83/300\n",
            "10/10 [==============================] - 0s 3ms/step - loss: 0.4068 - val_loss: 0.3497\n",
            "Epoch 84/300\n",
            "10/10 [==============================] - 0s 3ms/step - loss: 0.4051 - val_loss: 0.3465\n",
            "Epoch 85/300\n",
            "10/10 [==============================] - 0s 4ms/step - loss: 0.4171 - val_loss: 0.3424\n",
            "Epoch 86/300\n",
            "10/10 [==============================] - 0s 4ms/step - loss: 0.4148 - val_loss: 0.3691\n",
            "Epoch 87/300\n",
            "10/10 [==============================] - 0s 3ms/step - loss: 0.4085 - val_loss: 0.3361\n",
            "Epoch 88/300\n",
            "10/10 [==============================] - 0s 3ms/step - loss: 0.4220 - val_loss: 0.3900\n",
            "Epoch 89/300\n",
            "10/10 [==============================] - 0s 4ms/step - loss: 0.4241 - val_loss: 0.3342\n",
            "Epoch 90/300\n",
            "10/10 [==============================] - 0s 3ms/step - loss: 0.4179 - val_loss: 0.3850\n",
            "Epoch 91/300\n",
            "10/10 [==============================] - 0s 4ms/step - loss: 0.4164 - val_loss: 0.3317\n",
            "Epoch 92/300\n",
            "10/10 [==============================] - 0s 3ms/step - loss: 0.4443 - val_loss: 0.3719\n",
            "Epoch 93/300\n",
            "10/10 [==============================] - 0s 4ms/step - loss: 0.4182 - val_loss: 0.3431\n",
            "Epoch 94/300\n",
            "10/10 [==============================] - 0s 3ms/step - loss: 0.4000 - val_loss: 0.3767\n",
            "Epoch 95/300\n",
            "10/10 [==============================] - 0s 3ms/step - loss: 0.4023 - val_loss: 0.3329\n",
            "Epoch 96/300\n",
            "10/10 [==============================] - 0s 3ms/step - loss: 0.4076 - val_loss: 0.3547\n",
            "Epoch 97/300\n",
            "10/10 [==============================] - 0s 3ms/step - loss: 0.3949 - val_loss: 0.3414\n",
            "Epoch 98/300\n",
            "10/10 [==============================] - 0s 3ms/step - loss: 0.4002 - val_loss: 0.3490\n",
            "Epoch 99/300\n",
            "10/10 [==============================] - 0s 3ms/step - loss: 0.3927 - val_loss: 0.3494\n",
            "Epoch 100/300\n",
            "10/10 [==============================] - 0s 3ms/step - loss: 0.3924 - val_loss: 0.3491\n",
            "Epoch 101/300\n",
            "10/10 [==============================] - 0s 3ms/step - loss: 0.3957 - val_loss: 0.3391\n",
            "Epoch 102/300\n",
            "10/10 [==============================] - 0s 3ms/step - loss: 0.3964 - val_loss: 0.3691\n",
            "Epoch 103/300\n",
            "10/10 [==============================] - 0s 3ms/step - loss: 0.3940 - val_loss: 0.3509\n",
            "Epoch 104/300\n",
            "10/10 [==============================] - 0s 3ms/step - loss: 0.3914 - val_loss: 0.3348\n",
            "Epoch 105/300\n",
            "10/10 [==============================] - 0s 4ms/step - loss: 0.3943 - val_loss: 0.3610\n",
            "Epoch 106/300\n",
            "10/10 [==============================] - 0s 3ms/step - loss: 0.4055 - val_loss: 0.3551\n",
            "Epoch 107/300\n",
            "10/10 [==============================] - 0s 4ms/step - loss: 0.4006 - val_loss: 0.3397\n",
            "Epoch 108/300\n",
            "10/10 [==============================] - 0s 3ms/step - loss: 0.4018 - val_loss: 0.3734\n",
            "Epoch 109/300\n",
            "10/10 [==============================] - 0s 4ms/step - loss: 0.3993 - val_loss: 0.3417\n",
            "Epoch 110/300\n",
            "10/10 [==============================] - 0s 4ms/step - loss: 0.3867 - val_loss: 0.3383\n",
            "Epoch 111/300\n",
            "10/10 [==============================] - 0s 4ms/step - loss: 0.3839 - val_loss: 0.3325\n",
            "Epoch 112/300\n",
            "10/10 [==============================] - 0s 4ms/step - loss: 0.3870 - val_loss: 0.3390\n",
            "Epoch 113/300\n",
            "10/10 [==============================] - 0s 3ms/step - loss: 0.3846 - val_loss: 0.3447\n",
            "Epoch 114/300\n",
            "10/10 [==============================] - 0s 3ms/step - loss: 0.3792 - val_loss: 0.3306\n",
            "Epoch 115/300\n",
            "10/10 [==============================] - 0s 3ms/step - loss: 0.3827 - val_loss: 0.3485\n",
            "Epoch 116/300\n",
            "10/10 [==============================] - 0s 3ms/step - loss: 0.3951 - val_loss: 0.3362\n",
            "Epoch 117/300\n",
            "10/10 [==============================] - 0s 3ms/step - loss: 0.3784 - val_loss: 0.3406\n",
            "Epoch 118/300\n",
            "10/10 [==============================] - 0s 3ms/step - loss: 0.3737 - val_loss: 0.3332\n",
            "Epoch 119/300\n",
            "10/10 [==============================] - 0s 4ms/step - loss: 0.3684 - val_loss: 0.3200\n",
            "Epoch 120/300\n",
            "10/10 [==============================] - 0s 3ms/step - loss: 0.3732 - val_loss: 0.3241\n",
            "Epoch 121/300\n",
            "10/10 [==============================] - 0s 3ms/step - loss: 0.3663 - val_loss: 0.3126\n",
            "Epoch 122/300\n",
            "10/10 [==============================] - 0s 3ms/step - loss: 0.3753 - val_loss: 0.3127\n",
            "Epoch 123/300\n",
            "10/10 [==============================] - 0s 4ms/step - loss: 0.3701 - val_loss: 0.3308\n",
            "Epoch 124/300\n",
            "10/10 [==============================] - 0s 4ms/step - loss: 0.3646 - val_loss: 0.3239\n",
            "Epoch 125/300\n",
            "10/10 [==============================] - 0s 3ms/step - loss: 0.3580 - val_loss: 0.3135\n",
            "Epoch 126/300\n",
            "10/10 [==============================] - 0s 4ms/step - loss: 0.3577 - val_loss: 0.3232\n",
            "Epoch 127/300\n",
            "10/10 [==============================] - 0s 4ms/step - loss: 0.3639 - val_loss: 0.2920\n",
            "Epoch 128/300\n",
            "10/10 [==============================] - 0s 4ms/step - loss: 0.3590 - val_loss: 0.3310\n",
            "Epoch 129/300\n",
            "10/10 [==============================] - 0s 3ms/step - loss: 0.3500 - val_loss: 0.3080\n",
            "Epoch 130/300\n",
            "10/10 [==============================] - 0s 3ms/step - loss: 0.3459 - val_loss: 0.2934\n",
            "Epoch 131/300\n",
            "10/10 [==============================] - 0s 4ms/step - loss: 0.3431 - val_loss: 0.3091\n",
            "Epoch 132/300\n",
            "10/10 [==============================] - 0s 4ms/step - loss: 0.3465 - val_loss: 0.2916\n",
            "Epoch 133/300\n",
            "10/10 [==============================] - 0s 4ms/step - loss: 0.3640 - val_loss: 0.3832\n",
            "Epoch 134/300\n",
            "10/10 [==============================] - 0s 4ms/step - loss: 0.3982 - val_loss: 0.3361\n",
            "Epoch 135/300\n",
            "10/10 [==============================] - 0s 5ms/step - loss: 0.3704 - val_loss: 0.3369\n",
            "Epoch 136/300\n",
            "10/10 [==============================] - 0s 4ms/step - loss: 0.3631 - val_loss: 0.3372\n",
            "Epoch 137/300\n",
            "10/10 [==============================] - 0s 4ms/step - loss: 0.3466 - val_loss: 0.3090\n",
            "Epoch 138/300\n",
            "10/10 [==============================] - 0s 4ms/step - loss: 0.3505 - val_loss: 0.3386\n",
            "Epoch 139/300\n",
            "10/10 [==============================] - 0s 3ms/step - loss: 0.3875 - val_loss: 0.2984\n",
            "Epoch 140/300\n",
            "10/10 [==============================] - 0s 3ms/step - loss: 0.3514 - val_loss: 0.3040\n",
            "Epoch 141/300\n",
            "10/10 [==============================] - 0s 3ms/step - loss: 0.3409 - val_loss: 0.3044\n",
            "Epoch 142/300\n",
            "10/10 [==============================] - 0s 4ms/step - loss: 0.3401 - val_loss: 0.2683\n",
            "Epoch 143/300\n",
            "10/10 [==============================] - 0s 3ms/step - loss: 0.3299 - val_loss: 0.3445\n",
            "Epoch 144/300\n",
            "10/10 [==============================] - 0s 3ms/step - loss: 0.3490 - val_loss: 0.2860\n",
            "Epoch 145/300\n",
            "10/10 [==============================] - 0s 4ms/step - loss: 0.3188 - val_loss: 0.3248\n",
            "Epoch 146/300\n",
            "10/10 [==============================] - 0s 4ms/step - loss: 0.3659 - val_loss: 0.2701\n",
            "Epoch 147/300\n",
            "10/10 [==============================] - 0s 4ms/step - loss: 0.3233 - val_loss: 0.2605\n",
            "Epoch 148/300\n",
            "10/10 [==============================] - 0s 4ms/step - loss: 0.3250 - val_loss: 0.2703\n",
            "Epoch 149/300\n",
            "10/10 [==============================] - 0s 5ms/step - loss: 0.3161 - val_loss: 0.2802\n",
            "Epoch 150/300\n",
            "10/10 [==============================] - 0s 4ms/step - loss: 0.3176 - val_loss: 0.2559\n",
            "Epoch 151/300\n",
            "10/10 [==============================] - 0s 4ms/step - loss: 0.3066 - val_loss: 0.2631\n",
            "Epoch 152/300\n",
            "10/10 [==============================] - 0s 3ms/step - loss: 0.3083 - val_loss: 0.2351\n",
            "Epoch 153/300\n",
            "10/10 [==============================] - 0s 4ms/step - loss: 0.3049 - val_loss: 0.2668\n",
            "Epoch 154/300\n",
            "10/10 [==============================] - 0s 3ms/step - loss: 0.3070 - val_loss: 0.2416\n",
            "Epoch 155/300\n",
            "10/10 [==============================] - 0s 4ms/step - loss: 0.3262 - val_loss: 0.2875\n",
            "Epoch 156/300\n",
            "10/10 [==============================] - 0s 4ms/step - loss: 0.3052 - val_loss: 0.2289\n",
            "Epoch 157/300\n",
            "10/10 [==============================] - 0s 4ms/step - loss: 0.3015 - val_loss: 0.2816\n",
            "Epoch 158/300\n",
            "10/10 [==============================] - 0s 4ms/step - loss: 0.3074 - val_loss: 0.2484\n",
            "Epoch 159/300\n",
            "10/10 [==============================] - 0s 3ms/step - loss: 0.2942 - val_loss: 0.2793\n",
            "Epoch 160/300\n",
            "10/10 [==============================] - 0s 3ms/step - loss: 0.3028 - val_loss: 0.2635\n",
            "Epoch 161/300\n",
            "10/10 [==============================] - 0s 3ms/step - loss: 0.3120 - val_loss: 0.2739\n",
            "Epoch 162/300\n",
            "10/10 [==============================] - 0s 4ms/step - loss: 0.2881 - val_loss: 0.2427\n",
            "Epoch 163/300\n",
            "10/10 [==============================] - 0s 4ms/step - loss: 0.2943 - val_loss: 0.2325\n",
            "Epoch 164/300\n",
            "10/10 [==============================] - 0s 4ms/step - loss: 0.2922 - val_loss: 0.2760\n",
            "Epoch 165/300\n",
            "10/10 [==============================] - 0s 3ms/step - loss: 0.2927 - val_loss: 0.2362\n",
            "Epoch 166/300\n",
            "10/10 [==============================] - 0s 4ms/step - loss: 0.2757 - val_loss: 0.2415\n",
            "Epoch 167/300\n",
            "10/10 [==============================] - 0s 3ms/step - loss: 0.2733 - val_loss: 0.2125\n",
            "Epoch 168/300\n",
            "10/10 [==============================] - 0s 4ms/step - loss: 0.2722 - val_loss: 0.2668\n",
            "Epoch 169/300\n",
            "10/10 [==============================] - 0s 4ms/step - loss: 0.2761 - val_loss: 0.2844\n",
            "Epoch 170/300\n",
            "10/10 [==============================] - 0s 4ms/step - loss: 0.2621 - val_loss: 0.2198\n",
            "Epoch 171/300\n",
            "10/10 [==============================] - 0s 4ms/step - loss: 0.2685 - val_loss: 0.2359\n",
            "Epoch 172/300\n",
            "10/10 [==============================] - 0s 3ms/step - loss: 0.2778 - val_loss: 0.3788\n",
            "Epoch 173/300\n",
            "10/10 [==============================] - 0s 3ms/step - loss: 0.3105 - val_loss: 0.2929\n",
            "Epoch 174/300\n",
            "10/10 [==============================] - 0s 4ms/step - loss: 0.2981 - val_loss: 0.2697\n",
            "Epoch 175/300\n",
            "10/10 [==============================] - 0s 4ms/step - loss: 0.2644 - val_loss: 0.2051\n",
            "Epoch 176/300\n",
            "10/10 [==============================] - 0s 4ms/step - loss: 0.2576 - val_loss: 0.2035\n",
            "Epoch 177/300\n",
            "10/10 [==============================] - 0s 4ms/step - loss: 0.2698 - val_loss: 0.1836\n",
            "Epoch 178/300\n",
            "10/10 [==============================] - 0s 3ms/step - loss: 0.2591 - val_loss: 0.2567\n",
            "Epoch 179/300\n",
            "10/10 [==============================] - 0s 5ms/step - loss: 0.2519 - val_loss: 0.1892\n",
            "Epoch 180/300\n",
            "10/10 [==============================] - 0s 4ms/step - loss: 0.2471 - val_loss: 0.2117\n",
            "Epoch 181/300\n",
            "10/10 [==============================] - 0s 3ms/step - loss: 0.2411 - val_loss: 0.2179\n",
            "Epoch 182/300\n",
            "10/10 [==============================] - 0s 4ms/step - loss: 0.2519 - val_loss: 0.2170\n",
            "Epoch 183/300\n",
            "10/10 [==============================] - 0s 3ms/step - loss: 0.2416 - val_loss: 0.1958\n",
            "Epoch 184/300\n",
            "10/10 [==============================] - 0s 4ms/step - loss: 0.2495 - val_loss: 0.1875\n",
            "Epoch 185/300\n",
            "10/10 [==============================] - 0s 3ms/step - loss: 0.2550 - val_loss: 0.2369\n",
            "Epoch 186/300\n",
            "10/10 [==============================] - 0s 4ms/step - loss: 0.2445 - val_loss: 0.2356\n",
            "Epoch 187/300\n",
            "10/10 [==============================] - 0s 4ms/step - loss: 0.2447 - val_loss: 0.2073\n",
            "Epoch 188/300\n",
            "10/10 [==============================] - 0s 3ms/step - loss: 0.2573 - val_loss: 0.2134\n",
            "Epoch 189/300\n",
            "10/10 [==============================] - 0s 4ms/step - loss: 0.2377 - val_loss: 0.1994\n",
            "Epoch 190/300\n",
            "10/10 [==============================] - 0s 3ms/step - loss: 0.2229 - val_loss: 0.1702\n",
            "Epoch 191/300\n",
            "10/10 [==============================] - 0s 5ms/step - loss: 0.2584 - val_loss: 0.2222\n",
            "Epoch 192/300\n",
            "10/10 [==============================] - 0s 4ms/step - loss: 0.2446 - val_loss: 0.1946\n",
            "Epoch 193/300\n",
            "10/10 [==============================] - 0s 4ms/step - loss: 0.2621 - val_loss: 0.1817\n",
            "Epoch 194/300\n",
            "10/10 [==============================] - 0s 4ms/step - loss: 0.2280 - val_loss: 0.1872\n",
            "Epoch 195/300\n",
            "10/10 [==============================] - 0s 3ms/step - loss: 0.2299 - val_loss: 0.1873\n",
            "Epoch 196/300\n",
            "10/10 [==============================] - 0s 4ms/step - loss: 0.2262 - val_loss: 0.1857\n",
            "Epoch 197/300\n",
            "10/10 [==============================] - 0s 4ms/step - loss: 0.2296 - val_loss: 0.2215\n",
            "Epoch 198/300\n",
            "10/10 [==============================] - 0s 4ms/step - loss: 0.2664 - val_loss: 0.1951\n",
            "Epoch 199/300\n",
            "10/10 [==============================] - 0s 4ms/step - loss: 0.2332 - val_loss: 0.1959\n",
            "Epoch 200/300\n",
            "10/10 [==============================] - 0s 3ms/step - loss: 0.2124 - val_loss: 0.1721\n",
            "Epoch 201/300\n",
            "10/10 [==============================] - 0s 5ms/step - loss: 0.2295 - val_loss: 0.2058\n",
            "Epoch 202/300\n",
            "10/10 [==============================] - 0s 4ms/step - loss: 0.2231 - val_loss: 0.2216\n",
            "Epoch 203/300\n",
            "10/10 [==============================] - 0s 4ms/step - loss: 0.2250 - val_loss: 0.1594\n",
            "Epoch 204/300\n",
            "10/10 [==============================] - 0s 4ms/step - loss: 0.2166 - val_loss: 0.1941\n",
            "Epoch 205/300\n",
            "10/10 [==============================] - 0s 3ms/step - loss: 0.2179 - val_loss: 0.2120\n",
            "Epoch 206/300\n",
            "10/10 [==============================] - 0s 4ms/step - loss: 0.2260 - val_loss: 0.2017\n",
            "Epoch 207/300\n",
            "10/10 [==============================] - 0s 4ms/step - loss: 0.2463 - val_loss: 0.1659\n",
            "Epoch 208/300\n",
            "10/10 [==============================] - 0s 3ms/step - loss: 0.2102 - val_loss: 0.1840\n",
            "Epoch 209/300\n",
            "10/10 [==============================] - 0s 3ms/step - loss: 0.2003 - val_loss: 0.1567\n",
            "Epoch 210/300\n",
            "10/10 [==============================] - 0s 4ms/step - loss: 0.2305 - val_loss: 0.3512\n",
            "Epoch 211/300\n",
            "10/10 [==============================] - 0s 4ms/step - loss: 0.3028 - val_loss: 0.2684\n",
            "Epoch 212/300\n",
            "10/10 [==============================] - 0s 4ms/step - loss: 0.2245 - val_loss: 0.1997\n",
            "Epoch 213/300\n",
            "10/10 [==============================] - 0s 3ms/step - loss: 0.2028 - val_loss: 0.1883\n",
            "Epoch 214/300\n",
            "10/10 [==============================] - 0s 4ms/step - loss: 0.2027 - val_loss: 0.1623\n",
            "Epoch 215/300\n",
            "10/10 [==============================] - 0s 4ms/step - loss: 0.2001 - val_loss: 0.1659\n",
            "Epoch 216/300\n",
            "10/10 [==============================] - 0s 4ms/step - loss: 0.1919 - val_loss: 0.1610\n",
            "Epoch 217/300\n",
            "10/10 [==============================] - 0s 4ms/step - loss: 0.2005 - val_loss: 0.1909\n",
            "Epoch 218/300\n",
            "10/10 [==============================] - 0s 4ms/step - loss: 0.1911 - val_loss: 0.1969\n",
            "Epoch 219/300\n",
            "10/10 [==============================] - 0s 4ms/step - loss: 0.1862 - val_loss: 0.1542\n",
            "Epoch 220/300\n",
            "10/10 [==============================] - 0s 4ms/step - loss: 0.1922 - val_loss: 0.1859\n",
            "Epoch 221/300\n",
            "10/10 [==============================] - 0s 4ms/step - loss: 0.1806 - val_loss: 0.1494\n",
            "Epoch 222/300\n",
            "10/10 [==============================] - 0s 3ms/step - loss: 0.1862 - val_loss: 0.1733\n",
            "Epoch 223/300\n",
            "10/10 [==============================] - 0s 4ms/step - loss: 0.2281 - val_loss: 0.1859\n",
            "Epoch 224/300\n",
            "10/10 [==============================] - 0s 4ms/step - loss: 0.2123 - val_loss: 0.1667\n",
            "Epoch 225/300\n",
            "10/10 [==============================] - 0s 4ms/step - loss: 0.2025 - val_loss: 0.1458\n",
            "Epoch 226/300\n",
            "10/10 [==============================] - 0s 4ms/step - loss: 0.1928 - val_loss: 0.1835\n",
            "Epoch 227/300\n",
            "10/10 [==============================] - 0s 4ms/step - loss: 0.1890 - val_loss: 0.1674\n",
            "Epoch 228/300\n",
            "10/10 [==============================] - 0s 4ms/step - loss: 0.2223 - val_loss: 0.1470\n",
            "Epoch 229/300\n",
            "10/10 [==============================] - 0s 3ms/step - loss: 0.1821 - val_loss: 0.1568\n",
            "Epoch 230/300\n",
            "10/10 [==============================] - 0s 4ms/step - loss: 0.1758 - val_loss: 0.1419\n",
            "Epoch 231/300\n",
            "10/10 [==============================] - 0s 3ms/step - loss: 0.1787 - val_loss: 0.2081\n",
            "Epoch 232/300\n",
            "10/10 [==============================] - 0s 3ms/step - loss: 0.1823 - val_loss: 0.1476\n",
            "Epoch 233/300\n",
            "10/10 [==============================] - 0s 4ms/step - loss: 0.1720 - val_loss: 0.1341\n",
            "Epoch 234/300\n",
            "10/10 [==============================] - 0s 4ms/step - loss: 0.1640 - val_loss: 0.1336\n",
            "Epoch 235/300\n",
            "10/10 [==============================] - 0s 4ms/step - loss: 0.1598 - val_loss: 0.1383\n",
            "Epoch 236/300\n",
            "10/10 [==============================] - 0s 4ms/step - loss: 0.1657 - val_loss: 0.1880\n",
            "Epoch 237/300\n",
            "10/10 [==============================] - 0s 4ms/step - loss: 0.1712 - val_loss: 0.1398\n",
            "Epoch 238/300\n",
            "10/10 [==============================] - 0s 4ms/step - loss: 0.1580 - val_loss: 0.1338\n",
            "Epoch 239/300\n",
            "10/10 [==============================] - 0s 4ms/step - loss: 0.1563 - val_loss: 0.1364\n",
            "Epoch 240/300\n",
            "10/10 [==============================] - 0s 4ms/step - loss: 0.1590 - val_loss: 0.1360\n",
            "Epoch 241/300\n",
            "10/10 [==============================] - 0s 3ms/step - loss: 0.1630 - val_loss: 0.1659\n",
            "Epoch 242/300\n",
            "10/10 [==============================] - 0s 4ms/step - loss: 0.1678 - val_loss: 0.1393\n",
            "Epoch 243/300\n",
            "10/10 [==============================] - 0s 4ms/step - loss: 0.1549 - val_loss: 0.1403\n",
            "Epoch 244/300\n",
            "10/10 [==============================] - 0s 4ms/step - loss: 0.1611 - val_loss: 0.1337\n",
            "Epoch 245/300\n",
            "10/10 [==============================] - 0s 3ms/step - loss: 0.1589 - val_loss: 0.1258\n",
            "Epoch 246/300\n",
            "10/10 [==============================] - 0s 4ms/step - loss: 0.1541 - val_loss: 0.1443\n",
            "Epoch 247/300\n",
            "10/10 [==============================] - 0s 4ms/step - loss: 0.1775 - val_loss: 0.1796\n",
            "Epoch 248/300\n",
            "10/10 [==============================] - 0s 4ms/step - loss: 0.1747 - val_loss: 0.2694\n",
            "Epoch 249/300\n",
            "10/10 [==============================] - 0s 4ms/step - loss: 0.2002 - val_loss: 0.1679\n",
            "Epoch 250/300\n",
            "10/10 [==============================] - 0s 4ms/step - loss: 0.1720 - val_loss: 0.1275\n",
            "Epoch 251/300\n",
            "10/10 [==============================] - 0s 4ms/step - loss: 0.1655 - val_loss: 0.2296\n",
            "Epoch 252/300\n",
            "10/10 [==============================] - 0s 4ms/step - loss: 0.1832 - val_loss: 0.1314\n",
            "Epoch 253/300\n",
            "10/10 [==============================] - 0s 4ms/step - loss: 0.1475 - val_loss: 0.1243\n",
            "Epoch 254/300\n",
            "10/10 [==============================] - 0s 4ms/step - loss: 0.1428 - val_loss: 0.1635\n",
            "Epoch 255/300\n",
            "10/10 [==============================] - 0s 4ms/step - loss: 0.1595 - val_loss: 0.1397\n",
            "Epoch 256/300\n",
            "10/10 [==============================] - 0s 3ms/step - loss: 0.1460 - val_loss: 0.1054\n",
            "Epoch 257/300\n",
            "10/10 [==============================] - 0s 4ms/step - loss: 0.1501 - val_loss: 0.1486\n",
            "Epoch 258/300\n",
            "10/10 [==============================] - 0s 4ms/step - loss: 0.1717 - val_loss: 0.1392\n",
            "Epoch 259/300\n",
            "10/10 [==============================] - 0s 4ms/step - loss: 0.1489 - val_loss: 0.1224\n",
            "Epoch 260/300\n",
            "10/10 [==============================] - 0s 3ms/step - loss: 0.1362 - val_loss: 0.1154\n",
            "Epoch 261/300\n",
            "10/10 [==============================] - 0s 3ms/step - loss: 0.1382 - val_loss: 0.1192\n",
            "Epoch 262/300\n",
            "10/10 [==============================] - 0s 4ms/step - loss: 0.1338 - val_loss: 0.1242\n",
            "Epoch 263/300\n",
            "10/10 [==============================] - 0s 3ms/step - loss: 0.1311 - val_loss: 0.1155\n",
            "Epoch 264/300\n",
            "10/10 [==============================] - 0s 4ms/step - loss: 0.1343 - val_loss: 0.1304\n",
            "Epoch 265/300\n",
            "10/10 [==============================] - 0s 4ms/step - loss: 0.1344 - val_loss: 0.1155\n",
            "Epoch 266/300\n",
            "10/10 [==============================] - 0s 3ms/step - loss: 0.1419 - val_loss: 0.1368\n",
            "Epoch 267/300\n",
            "10/10 [==============================] - 0s 4ms/step - loss: 0.1392 - val_loss: 0.1332\n",
            "Epoch 268/300\n",
            "10/10 [==============================] - 0s 6ms/step - loss: 0.1305 - val_loss: 0.1134\n",
            "Epoch 269/300\n",
            "10/10 [==============================] - 0s 4ms/step - loss: 0.1471 - val_loss: 0.1352\n",
            "Epoch 270/300\n",
            "10/10 [==============================] - 0s 4ms/step - loss: 0.1360 - val_loss: 0.1133\n",
            "Epoch 271/300\n",
            "10/10 [==============================] - 0s 4ms/step - loss: 0.1379 - val_loss: 0.1399\n",
            "Epoch 272/300\n",
            "10/10 [==============================] - 0s 4ms/step - loss: 0.1518 - val_loss: 0.1363\n",
            "Epoch 273/300\n",
            "10/10 [==============================] - 0s 3ms/step - loss: 0.1378 - val_loss: 0.1119\n",
            "Epoch 274/300\n",
            "10/10 [==============================] - 0s 4ms/step - loss: 0.1437 - val_loss: 0.1114\n",
            "Epoch 275/300\n",
            "10/10 [==============================] - 0s 4ms/step - loss: 0.1568 - val_loss: 0.1721\n",
            "Epoch 276/300\n",
            "10/10 [==============================] - 0s 3ms/step - loss: 0.1626 - val_loss: 0.1053\n",
            "Epoch 277/300\n",
            "10/10 [==============================] - 0s 4ms/step - loss: 0.1678 - val_loss: 0.1108\n",
            "Epoch 278/300\n",
            "10/10 [==============================] - 0s 5ms/step - loss: 0.1626 - val_loss: 0.2147\n",
            "Epoch 279/300\n",
            "10/10 [==============================] - 0s 4ms/step - loss: 0.1604 - val_loss: 0.1121\n",
            "Epoch 280/300\n",
            "10/10 [==============================] - 0s 5ms/step - loss: 0.1735 - val_loss: 0.1348\n",
            "Epoch 281/300\n",
            "10/10 [==============================] - 0s 5ms/step - loss: 0.1309 - val_loss: 0.1027\n",
            "Epoch 282/300\n",
            "10/10 [==============================] - 0s 4ms/step - loss: 0.1217 - val_loss: 0.1046\n",
            "Epoch 283/300\n",
            "10/10 [==============================] - 0s 4ms/step - loss: 0.1216 - val_loss: 0.1162\n",
            "Epoch 284/300\n",
            "10/10 [==============================] - 0s 4ms/step - loss: 0.1262 - val_loss: 0.0994\n",
            "Epoch 285/300\n",
            "10/10 [==============================] - 0s 4ms/step - loss: 0.1343 - val_loss: 0.1224\n",
            "Epoch 286/300\n",
            "10/10 [==============================] - 0s 5ms/step - loss: 0.1229 - val_loss: 0.1224\n",
            "Epoch 287/300\n",
            "10/10 [==============================] - 0s 4ms/step - loss: 0.1172 - val_loss: 0.1070\n",
            "Epoch 288/300\n",
            "10/10 [==============================] - 0s 4ms/step - loss: 0.1148 - val_loss: 0.1074\n",
            "Epoch 289/300\n",
            "10/10 [==============================] - 0s 5ms/step - loss: 0.1106 - val_loss: 0.1090\n",
            "Epoch 290/300\n",
            "10/10 [==============================] - 0s 4ms/step - loss: 0.1169 - val_loss: 0.1075\n",
            "Epoch 291/300\n",
            "10/10 [==============================] - 0s 4ms/step - loss: 0.1118 - val_loss: 0.0913\n",
            "Epoch 292/300\n",
            "10/10 [==============================] - 0s 4ms/step - loss: 0.1167 - val_loss: 0.1082\n",
            "Epoch 293/300\n",
            "10/10 [==============================] - 0s 4ms/step - loss: 0.1139 - val_loss: 0.1015\n",
            "Epoch 294/300\n",
            "10/10 [==============================] - 0s 4ms/step - loss: 0.1084 - val_loss: 0.0954\n",
            "Epoch 295/300\n",
            "10/10 [==============================] - 0s 4ms/step - loss: 0.1127 - val_loss: 0.0952\n",
            "Epoch 296/300\n",
            "10/10 [==============================] - 0s 4ms/step - loss: 0.1032 - val_loss: 0.0925\n",
            "Epoch 297/300\n",
            "10/10 [==============================] - 0s 4ms/step - loss: 0.1054 - val_loss: 0.1033\n",
            "Epoch 298/300\n",
            "10/10 [==============================] - 0s 4ms/step - loss: 0.1090 - val_loss: 0.1018\n",
            "Epoch 299/300\n",
            "10/10 [==============================] - 0s 4ms/step - loss: 0.1109 - val_loss: 0.1134\n",
            "Epoch 300/300\n",
            "10/10 [==============================] - 0s 4ms/step - loss: 0.1088 - val_loss: 0.0930\n"
          ],
          "name": "stdout"
        }
      ]
    },
    {
      "cell_type": "code",
      "metadata": {
        "id": "llXIizO68-X_",
        "outputId": "a27c6143-b6f1-4571-9013-ea9063cefc4e",
        "colab": {
          "base_uri": "https://localhost:8080/",
          "height": 295
        }
      },
      "source": [
        "import matplotlib.pyplot as plt\n",
        "\n",
        "plt.plot(history.history['loss'][0:300])\n",
        "plt.plot(history.history['val_loss'][0:300])\n",
        "plt.title('model loss')\n",
        "plt.ylabel('loss')\n",
        "plt.xlabel('epoch')\n",
        "plt.legend(['train', 'test'], loc='upper left')\n",
        "plt.show()"
      ],
      "execution_count": 11,
      "outputs": [
        {
          "output_type": "display_data",
          "data": {
            "image/png": "[encoded data removed]",
            "text/plain": [
              "<Figure size 432x288 with 1 Axes>"
            ]
          },
          "metadata": {
            "tags": [],
            "needs_background": "light"
          }
        }
      ]
    },
    {
      "cell_type": "markdown",
      "metadata": {
        "id": "kY2uVg90mQEo"
      },
      "source": [
        "## Convertendo os resultados binários para o nome dos acidentes"
      ]
    },
    {
      "cell_type": "code",
      "metadata": {
        "id": "9Svp5tnZ3KBE"
      },
      "source": [
        "saidasPrevistas = model.predict(entradasTeste)"
      ],
      "execution_count": 12,
      "outputs": []
    },
    {
      "cell_type": "code",
      "metadata": {
        "id": "xQpFed8vmQEp"
      },
      "source": [
        "# Convertendo os resultados das saídas previstas para 0 e 1\n",
        "for i in range(len(saidasPrevistas)):\n",
        "  for j in range(len(saidasPrevistas[0])):\n",
        "    saidasPrevistas[i][j] = round(saidasPrevistas[i][j],0)\n",
        "\n",
        "# Convertendo os números binários para o nome dos acidentes correspondentes\n",
        "saidasPrevistas = list(saidasPrevistas)\n",
        "saidasTeste = list(saidasTeste)\n",
        "for i in range(len(saidasPrevistas)):\n",
        "    if saidasPrevistas[i][0] == 1 and saidasPrevistas[i][1] == 0 and saidasPrevistas[i][2] == 0 and saidasPrevistas[i][3] == 0:\n",
        "      saidasPrevistas[i] = 'blacksem'\n",
        "    elif saidasPrevistas[i][0] == 0 and saidasPrevistas[i][1] == 1 and saidasPrevistas[i][2] == 0 and saidasPrevistas[i][3] == 0:\n",
        "      saidasPrevistas[i] = 'mefwisem'\n",
        "    elif saidasPrevistas[i][0] == 0 and saidasPrevistas[i][1] == 0 and saidasPrevistas[i][2] == 1 and saidasPrevistas[i][3] == 0:\n",
        "      saidasPrevistas[i] = 'mfwbr'\n",
        "    elif saidasPrevistas[i][0] == 0 and saidasPrevistas[i][1] == 0 and saidasPrevistas[i][2] == 0 and saidasPrevistas[i][3] == 1:\n",
        "      saidasPrevistas[i] = 'mfwisem'\n",
        "    else:\n",
        "      saidasPrevistas[i] = 'nenhum'\n",
        "\n",
        "for i in range(len(saidasTeste)):\n",
        "    if saidasTeste[i][0] == 1 and saidasTeste[i][1] == 0 and saidasTeste[i][2] == 0 and saidasTeste[i][3] == 0:\n",
        "      saidasTeste[i] = 'blacksem'\n",
        "    elif saidasTeste[i][0] == 0 and saidasTeste[i][1] == 1 and saidasTeste[i][2] == 0 and saidasTeste[i][3] == 0:\n",
        "      saidasTeste[i] = 'mefwisem'\n",
        "    elif saidasTeste[i][0] == 0 and saidasTeste[i][1] == 0 and saidasTeste[i][2] == 1 and saidasTeste[i][3] == 0:\n",
        "      saidasTeste[i] = 'mfwbr'\n",
        "    elif saidasTeste[i][0] == 0 and saidasTeste[i][1] == 0 and saidasTeste[i][2] == 0 and saidasTeste[i][3] == 1:\n",
        "      saidasTeste[i] = 'mfwisem'"
      ],
      "execution_count": 13,
      "outputs": []
    },
    {
      "cell_type": "markdown",
      "metadata": {
        "id": "TGeXepEz4I-u"
      },
      "source": [
        "## Criando listas 'acidentes' e 'quantidade de acidentes' para os conjuntos 'previsto' e 'teste'"
      ]
    },
    {
      "cell_type": "code",
      "metadata": {
        "id": "qWz5Ng9k4IDO"
      },
      "source": [
        "acidentes = ['blacksem','mefwisem','mfwbr','mfwisem','nenhum']\n",
        "acidentes_prev = [0,0,0,0,0]\n",
        "for i in range(len(saidasPrevistas)):\n",
        "  if saidasPrevistas[i] in acidentes:\n",
        "    if saidasPrevistas[i] == 'blacksem':\n",
        "      acidentes_prev[0] += 1\n",
        "    elif saidasPrevistas[i] == 'mefwisem':\n",
        "      acidentes_prev[1] += 1\n",
        "    elif saidasPrevistas[i] == 'mfwbr':\n",
        "      acidentes_prev[2] += 1\n",
        "    elif saidasPrevistas[i] == 'mfwisem':\n",
        "      acidentes_prev[3] += 1\n",
        "    else:\n",
        "      acidentes_prev[4] += 1\n",
        "      \n",
        "acidentes_teste = [0,0,0,0,0]\n",
        "for i in range(len(saidasTeste)):\n",
        "  if saidasTeste[i] in acidentes:\n",
        "    if saidasTeste[i] == 'blacksem':\n",
        "      acidentes_teste[0] += 1\n",
        "    elif saidasTeste[i] == 'mefwisem':\n",
        "      acidentes_teste[1] += 1\n",
        "    elif saidasTeste[i] == 'mfwbr':\n",
        "      acidentes_teste[2] += 1\n",
        "    elif saidasTeste[i] == 'mfwisem':\n",
        "      acidentes_teste[3] += 1\n",
        "    else:\n",
        "      acidentes_teste[4] += 1"
      ],
      "execution_count": 14,
      "outputs": []
    },
    {
      "cell_type": "markdown",
      "metadata": {
        "id": "IBkKeVjneDZR"
      },
      "source": [
        "## Avaliando resultados"
      ]
    },
    {
      "cell_type": "code",
      "metadata": {
        "id": "HmNe5C1KeHVO",
        "outputId": "3cca5cb2-075c-4c9b-ed50-215c0ea3fc48",
        "colab": {
          "base_uri": "https://localhost:8080/",
          "height": 35
        }
      },
      "source": [
        "acertos = 0\n",
        "for i in range(len(saidasTeste)):\n",
        "  if saidasTeste[i] == saidasPrevistas[i]:\n",
        "    acertos += 1\n",
        "porcent = (acertos/len(saidasTeste))*100\n",
        "print(\"Porcentagem de acertos: %f %%\" %porcent)"
      ],
      "execution_count": 15,
      "outputs": [
        {
          "output_type": "stream",
          "text": [
            "Porcentagem de acertos: 94.557823 %\n"
          ],
          "name": "stdout"
        }
      ]
    },
    {
      "cell_type": "code",
      "metadata": {
        "id": "7XTukCmzmQEu",
        "outputId": "c6804d2f-b058-4332-9241-9b6d73c4f275",
        "colab": {
          "base_uri": "https://localhost:8080/",
          "height": 403
        }
      },
      "source": [
        "fig, (graf1, graf2) = plt.subplots(1, 2, figsize=(15,5))\n",
        "graf1.bar(acidentes, acidentes_prev)\n",
        "graf1.grid('True')\n",
        "graf2.bar(acidentes, acidentes_teste)\n",
        "graf2.grid('True')\n",
        "graf1.set(title='Acidentes Previstos', xlabel='Acidentes', ylabel='Quantidade')\n",
        "graf2.set(title='Acidentes Teste', xlabel='Acidentes', ylabel='Quantidade')"
      ],
      "execution_count": 16,
      "outputs": [
        {
          "output_type": "execute_result",
          "data": {
            "text/plain": [
              "[Text(0, 0.5, 'Quantidade'),\n",
              " Text(0.5, 0, 'Acidentes'),\n",
              " Text(0.5, 1.0, 'Acidentes Teste')]"
            ]
          },
          "metadata": {
            "tags": []
          },
          "execution_count": 16
        },
        {
          "output_type": "display_data",
          "data": {
            "image/png": "[encoded data removed]",
            "text/plain": [
              "<Figure size 1080x360 with 2 Axes>"
            ]
          },
          "metadata": {
            "tags": [],
            "needs_background": "light"
          }
        }
      ]
    }
  ]
}