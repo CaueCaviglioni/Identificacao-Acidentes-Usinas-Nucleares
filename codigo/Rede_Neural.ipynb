{
 "cells": [
  {
   "cell_type": "markdown",
   "metadata": {
    "id": "dfyIirJMmQEB"
   },
   "source": [
    "# Rede Neural para Acidentes em uma Usina Nuclear"
   ]
  },
  {
   "cell_type": "markdown",
   "metadata": {
    "id": "5P6NImUAmQEC"
   },
   "source": [
    "## Bibliotecas"
   ]
  },
  {
   "cell_type": "code",
   "execution_count": 248,
   "metadata": {
    "id": "Mg_krSP4mQEC"
   },
   "outputs": [],
   "source": [
    "# Análise e visualização de dados\n",
    "import numpy as np\n",
    "import pandas as pd\n",
    "import matplotlib.pyplot as plt\n",
    "\n",
    "# Construção da rede neural\n",
    "from sklearn.preprocessing import MinMaxScaler\n",
    "from sklearn.preprocessing import LabelBinarizer\n",
    "from sklearn.model_selection import train_test_split \n",
    "from tensorflow.keras.layers import Dense\n",
    "from tensorflow.keras.callbacks import EarlyStopping"
   ]
  },
  {
   "cell_type": "markdown",
   "metadata": {
    "id": "z_imqEEHmQEG"
   },
   "source": [
    "## 1. Carrega dados"
   ]
  },
  {
   "cell_type": "code",
   "execution_count": 249,
   "metadata": {
    "id": "qCBJvBIBmQEG"
   },
   "outputs": [],
   "source": [
    "dados_ruido_1 = pd.read_csv(\"../data/1_noisy_16_operational_scenarios.csv\")\n",
    "dados_ruido_2 = pd.read_csv(\"../data/2_noisy_16_operational_scenarios_1.csv\")\n",
    "dados_sem_ruido = pd.read_csv(\"../data/16_operational_scenarios_1.csv\")"
   ]
  },
  {
   "cell_type": "markdown",
   "metadata": {},
   "source": [
    "## 2. Visualização dos dados"
   ]
  },
  {
   "cell_type": "code",
   "execution_count": 250,
   "metadata": {},
   "outputs": [
    {
     "data": {
      "text/html": [
       "<div>\n",
       "<style scoped>\n",
       "    .dataframe tbody tr th:only-of-type {\n",
       "        vertical-align: middle;\n",
       "    }\n",
       "\n",
       "    .dataframe tbody tr th {\n",
       "        vertical-align: top;\n",
       "    }\n",
       "\n",
       "    .dataframe thead th {\n",
       "        text-align: right;\n",
       "    }\n",
       "</style>\n",
       "<table border=\"1\" class=\"dataframe\">\n",
       "  <thead>\n",
       "    <tr style=\"text-align: right;\">\n",
       "      <th></th>\n",
       "      <th>Tempo (s)</th>\n",
       "      <th>Vazao no nucleo (%)</th>\n",
       "      <th>Temperatura na perna quente (C)</th>\n",
       "      <th>Temperatura na perna fria (C)</th>\n",
       "      <th>Vazao no nucleo (kg/s)</th>\n",
       "      <th>Nivel no gerador de vapor - Faixa larga (%)</th>\n",
       "      <th>Nivel no gerador de vapor - Faixa estreita (%)</th>\n",
       "      <th>Pressao no gerador de vapor (Mpa)</th>\n",
       "      <th>Vazao de agua de alimentacao (kg/s)</th>\n",
       "      <th>Vazao de vapor (kg/s)</th>\n",
       "      <th>Vazao no circuito primario (kg/s)</th>\n",
       "      <th>Pressao no sistema primario (Mpa)</th>\n",
       "      <th>Potencia Termica (%)</th>\n",
       "      <th>Potencia Nuclear (%)</th>\n",
       "      <th>Margem de sub-resfriamento (C)</th>\n",
       "      <th>Nivel do pressurizador (%)</th>\n",
       "      <th>Temperatura media no primario (C)</th>\n",
       "      <th>acidente</th>\n",
       "    </tr>\n",
       "  </thead>\n",
       "  <tbody>\n",
       "    <tr>\n",
       "      <th>0</th>\n",
       "      <td>0</td>\n",
       "      <td>104.243711</td>\n",
       "      <td>324.852712</td>\n",
       "      <td>290.119941</td>\n",
       "      <td>50419.127636</td>\n",
       "      <td>50.147174</td>\n",
       "      <td>61.807681</td>\n",
       "      <td>8.582747</td>\n",
       "      <td>527.506480</td>\n",
       "      <td>528.551475</td>\n",
       "      <td>106.741831</td>\n",
       "      <td>15.930347</td>\n",
       "      <td>99.449420</td>\n",
       "      <td>99.154224</td>\n",
       "      <td>22.241006</td>\n",
       "      <td>58.465101</td>\n",
       "      <td>309.573320</td>\n",
       "      <td>blackout</td>\n",
       "    </tr>\n",
       "    <tr>\n",
       "      <th>1</th>\n",
       "      <td>1</td>\n",
       "      <td>106.384864</td>\n",
       "      <td>324.517194</td>\n",
       "      <td>291.030773</td>\n",
       "      <td>50418.619925</td>\n",
       "      <td>49.448373</td>\n",
       "      <td>62.221050</td>\n",
       "      <td>5.569829</td>\n",
       "      <td>528.348726</td>\n",
       "      <td>529.647645</td>\n",
       "      <td>104.707226</td>\n",
       "      <td>16.214595</td>\n",
       "      <td>99.687547</td>\n",
       "      <td>98.932161</td>\n",
       "      <td>21.401202</td>\n",
       "      <td>59.994478</td>\n",
       "      <td>307.039656</td>\n",
       "      <td>blackout</td>\n",
       "    </tr>\n",
       "    <tr>\n",
       "      <th>2</th>\n",
       "      <td>2</td>\n",
       "      <td>100.182499</td>\n",
       "      <td>324.768348</td>\n",
       "      <td>291.263438</td>\n",
       "      <td>50044.930572</td>\n",
       "      <td>49.084206</td>\n",
       "      <td>63.439953</td>\n",
       "      <td>5.786461</td>\n",
       "      <td>34.283616</td>\n",
       "      <td>353.915246</td>\n",
       "      <td>98.959945</td>\n",
       "      <td>13.733822</td>\n",
       "      <td>12.993004</td>\n",
       "      <td>11.140458</td>\n",
       "      <td>30.932739</td>\n",
       "      <td>54.878668</td>\n",
       "      <td>302.811650</td>\n",
       "      <td>blackout</td>\n",
       "    </tr>\n",
       "  </tbody>\n",
       "</table>\n",
       "</div>"
      ],
      "text/plain": [
       "   Tempo (s)  Vazao no nucleo (%)  Temperatura na perna quente (C)  \\\n",
       "0          0           104.243711                       324.852712   \n",
       "1          1           106.384864                       324.517194   \n",
       "2          2           100.182499                       324.768348   \n",
       "\n",
       "   Temperatura na perna fria (C)  Vazao no nucleo (kg/s)  \\\n",
       "0                     290.119941            50419.127636   \n",
       "1                     291.030773            50418.619925   \n",
       "2                     291.263438            50044.930572   \n",
       "\n",
       "   Nivel no gerador de vapor - Faixa larga (%)  \\\n",
       "0                                    50.147174   \n",
       "1                                    49.448373   \n",
       "2                                    49.084206   \n",
       "\n",
       "   Nivel no gerador de vapor - Faixa estreita (%)  \\\n",
       "0                                       61.807681   \n",
       "1                                       62.221050   \n",
       "2                                       63.439953   \n",
       "\n",
       "   Pressao no gerador de vapor (Mpa)  Vazao de agua de alimentacao (kg/s)  \\\n",
       "0                           8.582747                           527.506480   \n",
       "1                           5.569829                           528.348726   \n",
       "2                           5.786461                            34.283616   \n",
       "\n",
       "   Vazao de vapor (kg/s)  Vazao no circuito primario (kg/s)  \\\n",
       "0             528.551475                         106.741831   \n",
       "1             529.647645                         104.707226   \n",
       "2             353.915246                          98.959945   \n",
       "\n",
       "   Pressao no sistema primario (Mpa)  Potencia Termica (%)  \\\n",
       "0                          15.930347             99.449420   \n",
       "1                          16.214595             99.687547   \n",
       "2                          13.733822             12.993004   \n",
       "\n",
       "   Potencia Nuclear (%)  Margem de sub-resfriamento (C)  \\\n",
       "0             99.154224                       22.241006   \n",
       "1             98.932161                       21.401202   \n",
       "2             11.140458                       30.932739   \n",
       "\n",
       "   Nivel do pressurizador (%)  Temperatura media no primario (C)  acidente  \n",
       "0                   58.465101                         309.573320  blackout  \n",
       "1                   59.994478                         307.039656  blackout  \n",
       "2                   54.878668                         302.811650  blackout  "
      ]
     },
     "execution_count": 250,
     "metadata": {},
     "output_type": "execute_result"
    }
   ],
   "source": [
    "dados_ruido_1.head(3)"
   ]
  },
  {
   "cell_type": "code",
   "execution_count": 251,
   "metadata": {},
   "outputs": [
    {
     "data": {
      "text/html": [
       "<div>\n",
       "<style scoped>\n",
       "    .dataframe tbody tr th:only-of-type {\n",
       "        vertical-align: middle;\n",
       "    }\n",
       "\n",
       "    .dataframe tbody tr th {\n",
       "        vertical-align: top;\n",
       "    }\n",
       "\n",
       "    .dataframe thead th {\n",
       "        text-align: right;\n",
       "    }\n",
       "</style>\n",
       "<table border=\"1\" class=\"dataframe\">\n",
       "  <thead>\n",
       "    <tr style=\"text-align: right;\">\n",
       "      <th></th>\n",
       "      <th>Tempo (s)</th>\n",
       "      <th>Vazao no nucleo (%)</th>\n",
       "      <th>Temperatura na perna quente (C)</th>\n",
       "      <th>Temperatura na perna fria (C)</th>\n",
       "      <th>Vazao no nucleo (kg/s)</th>\n",
       "      <th>Nivel no gerador de vapor - Faixa larga (%)</th>\n",
       "      <th>Nivel no gerador de vapor - Faixa estreita (%)</th>\n",
       "      <th>Pressao no gerador de vapor (Mpa)</th>\n",
       "      <th>Vazao de agua de alimentacao (kg/s)</th>\n",
       "      <th>Vazao de vapor (kg/s)</th>\n",
       "      <th>Vazao no circuito primario (kg/s)</th>\n",
       "      <th>Pressao no sistema primario (Mpa)</th>\n",
       "      <th>Potencia Termica (%)</th>\n",
       "      <th>Potencia Nuclear (%)</th>\n",
       "      <th>Margem de sub-resfriamento (C)</th>\n",
       "      <th>Nivel do pressurizador (%)</th>\n",
       "      <th>Temperatura media no primario (C)</th>\n",
       "      <th>acidente</th>\n",
       "    </tr>\n",
       "  </thead>\n",
       "  <tbody>\n",
       "    <tr>\n",
       "      <th>0</th>\n",
       "      <td>0</td>\n",
       "      <td>104.939658</td>\n",
       "      <td>323.524411</td>\n",
       "      <td>292.620726</td>\n",
       "      <td>50418.749479</td>\n",
       "      <td>49.233819</td>\n",
       "      <td>64.511352</td>\n",
       "      <td>7.075125</td>\n",
       "      <td>529.016851</td>\n",
       "      <td>527.605003</td>\n",
       "      <td>104.745694</td>\n",
       "      <td>15.711278</td>\n",
       "      <td>99.049419</td>\n",
       "      <td>100.867720</td>\n",
       "      <td>21.846421</td>\n",
       "      <td>60.609115</td>\n",
       "      <td>306.384661</td>\n",
       "      <td>blackout</td>\n",
       "    </tr>\n",
       "    <tr>\n",
       "      <th>1</th>\n",
       "      <td>1</td>\n",
       "      <td>105.670336</td>\n",
       "      <td>324.146896</td>\n",
       "      <td>290.494394</td>\n",
       "      <td>50419.063168</td>\n",
       "      <td>49.778172</td>\n",
       "      <td>63.319682</td>\n",
       "      <td>6.867931</td>\n",
       "      <td>528.687407</td>\n",
       "      <td>528.804908</td>\n",
       "      <td>106.442260</td>\n",
       "      <td>15.301440</td>\n",
       "      <td>96.890470</td>\n",
       "      <td>99.697501</td>\n",
       "      <td>21.101135</td>\n",
       "      <td>59.236471</td>\n",
       "      <td>309.215408</td>\n",
       "      <td>blackout</td>\n",
       "    </tr>\n",
       "    <tr>\n",
       "      <th>2</th>\n",
       "      <td>2</td>\n",
       "      <td>97.880888</td>\n",
       "      <td>324.610306</td>\n",
       "      <td>294.821211</td>\n",
       "      <td>50044.700027</td>\n",
       "      <td>49.583589</td>\n",
       "      <td>61.813460</td>\n",
       "      <td>6.795786</td>\n",
       "      <td>35.346247</td>\n",
       "      <td>353.252309</td>\n",
       "      <td>100.702658</td>\n",
       "      <td>16.034009</td>\n",
       "      <td>11.926949</td>\n",
       "      <td>12.984007</td>\n",
       "      <td>29.895678</td>\n",
       "      <td>55.451286</td>\n",
       "      <td>303.596089</td>\n",
       "      <td>blackout</td>\n",
       "    </tr>\n",
       "  </tbody>\n",
       "</table>\n",
       "</div>"
      ],
      "text/plain": [
       "   Tempo (s)  Vazao no nucleo (%)  Temperatura na perna quente (C)  \\\n",
       "0          0           104.939658                       323.524411   \n",
       "1          1           105.670336                       324.146896   \n",
       "2          2            97.880888                       324.610306   \n",
       "\n",
       "   Temperatura na perna fria (C)  Vazao no nucleo (kg/s)  \\\n",
       "0                     292.620726            50418.749479   \n",
       "1                     290.494394            50419.063168   \n",
       "2                     294.821211            50044.700027   \n",
       "\n",
       "   Nivel no gerador de vapor - Faixa larga (%)  \\\n",
       "0                                    49.233819   \n",
       "1                                    49.778172   \n",
       "2                                    49.583589   \n",
       "\n",
       "   Nivel no gerador de vapor - Faixa estreita (%)  \\\n",
       "0                                       64.511352   \n",
       "1                                       63.319682   \n",
       "2                                       61.813460   \n",
       "\n",
       "   Pressao no gerador de vapor (Mpa)  Vazao de agua de alimentacao (kg/s)  \\\n",
       "0                           7.075125                           529.016851   \n",
       "1                           6.867931                           528.687407   \n",
       "2                           6.795786                            35.346247   \n",
       "\n",
       "   Vazao de vapor (kg/s)  Vazao no circuito primario (kg/s)  \\\n",
       "0             527.605003                         104.745694   \n",
       "1             528.804908                         106.442260   \n",
       "2             353.252309                         100.702658   \n",
       "\n",
       "   Pressao no sistema primario (Mpa)  Potencia Termica (%)  \\\n",
       "0                          15.711278             99.049419   \n",
       "1                          15.301440             96.890470   \n",
       "2                          16.034009             11.926949   \n",
       "\n",
       "   Potencia Nuclear (%)  Margem de sub-resfriamento (C)  \\\n",
       "0            100.867720                       21.846421   \n",
       "1             99.697501                       21.101135   \n",
       "2             12.984007                       29.895678   \n",
       "\n",
       "   Nivel do pressurizador (%)  Temperatura media no primario (C)  acidente  \n",
       "0                   60.609115                         306.384661  blackout  \n",
       "1                   59.236471                         309.215408  blackout  \n",
       "2                   55.451286                         303.596089  blackout  "
      ]
     },
     "execution_count": 251,
     "metadata": {},
     "output_type": "execute_result"
    }
   ],
   "source": [
    "dados_ruido_2.head(3)"
   ]
  },
  {
   "cell_type": "code",
   "execution_count": 252,
   "metadata": {},
   "outputs": [
    {
     "data": {
      "text/html": [
       "<div>\n",
       "<style scoped>\n",
       "    .dataframe tbody tr th:only-of-type {\n",
       "        vertical-align: middle;\n",
       "    }\n",
       "\n",
       "    .dataframe tbody tr th {\n",
       "        vertical-align: top;\n",
       "    }\n",
       "\n",
       "    .dataframe thead th {\n",
       "        text-align: right;\n",
       "    }\n",
       "</style>\n",
       "<table border=\"1\" class=\"dataframe\">\n",
       "  <thead>\n",
       "    <tr style=\"text-align: right;\">\n",
       "      <th></th>\n",
       "      <th>Tempo (s)</th>\n",
       "      <th>Vazao no nucleo (%)</th>\n",
       "      <th>Temperatura na perna quente (C)</th>\n",
       "      <th>Temperatura na perna fria (C)</th>\n",
       "      <th>Vazao no nucleo (kg/s)</th>\n",
       "      <th>Nivel no gerador de vapor - Faixa larga (%)</th>\n",
       "      <th>Nivel no gerador de vapor - Faixa estreita (%)</th>\n",
       "      <th>Pressao no gerador de vapor (Mpa)</th>\n",
       "      <th>Vazao de agua de alimentacao (kg/s)</th>\n",
       "      <th>Vazao de vapor (kg/s)</th>\n",
       "      <th>Vazao no circuito primario (kg/s)</th>\n",
       "      <th>Pressao no sistema primario (Mpa)</th>\n",
       "      <th>Potencia Termica (%)</th>\n",
       "      <th>Potencia Nuclear (%)</th>\n",
       "      <th>Margem de sub-resfriamento (C)</th>\n",
       "      <th>Nivel do pressurizador (%)</th>\n",
       "      <th>Temperatura media no primario (C)</th>\n",
       "      <th>acidente</th>\n",
       "    </tr>\n",
       "  </thead>\n",
       "  <tbody>\n",
       "    <tr>\n",
       "      <th>0</th>\n",
       "      <td>0</td>\n",
       "      <td>105.2230</td>\n",
       "      <td>324.465</td>\n",
       "      <td>291.456</td>\n",
       "      <td>50418.4</td>\n",
       "      <td>50.0000</td>\n",
       "      <td>62.5153</td>\n",
       "      <td>6.89480</td>\n",
       "      <td>527.7670</td>\n",
       "      <td>527.767</td>\n",
       "      <td>105.2230</td>\n",
       "      <td>15.8000</td>\n",
       "      <td>100.0000</td>\n",
       "      <td>100.0000</td>\n",
       "      <td>21.8620</td>\n",
       "      <td>59.1491</td>\n",
       "      <td>307.959</td>\n",
       "      <td>blackout</td>\n",
       "    </tr>\n",
       "    <tr>\n",
       "      <th>1</th>\n",
       "      <td>1</td>\n",
       "      <td>105.3900</td>\n",
       "      <td>324.463</td>\n",
       "      <td>291.457</td>\n",
       "      <td>50418.3</td>\n",
       "      <td>50.0078</td>\n",
       "      <td>62.5169</td>\n",
       "      <td>6.89413</td>\n",
       "      <td>527.8900</td>\n",
       "      <td>528.396</td>\n",
       "      <td>105.3900</td>\n",
       "      <td>15.7999</td>\n",
       "      <td>100.0050</td>\n",
       "      <td>100.0050</td>\n",
       "      <td>21.8967</td>\n",
       "      <td>59.1357</td>\n",
       "      <td>307.942</td>\n",
       "      <td>blackout</td>\n",
       "    </tr>\n",
       "    <tr>\n",
       "      <th>2</th>\n",
       "      <td>2</td>\n",
       "      <td>99.4508</td>\n",
       "      <td>325.009</td>\n",
       "      <td>291.500</td>\n",
       "      <td>50044.8</td>\n",
       "      <td>49.0423</td>\n",
       "      <td>62.2777</td>\n",
       "      <td>6.94732</td>\n",
       "      <td>34.5845</td>\n",
       "      <td>354.461</td>\n",
       "      <td>99.4663</td>\n",
       "      <td>15.4866</td>\n",
       "      <td>11.9731</td>\n",
       "      <td>11.9757</td>\n",
       "      <td>30.3013</td>\n",
       "      <td>54.6116</td>\n",
       "      <td>303.144</td>\n",
       "      <td>blackout</td>\n",
       "    </tr>\n",
       "  </tbody>\n",
       "</table>\n",
       "</div>"
      ],
      "text/plain": [
       "   Tempo (s)  Vazao no nucleo (%)  Temperatura na perna quente (C)  \\\n",
       "0          0             105.2230                          324.465   \n",
       "1          1             105.3900                          324.463   \n",
       "2          2              99.4508                          325.009   \n",
       "\n",
       "   Temperatura na perna fria (C)  Vazao no nucleo (kg/s)  \\\n",
       "0                        291.456                 50418.4   \n",
       "1                        291.457                 50418.3   \n",
       "2                        291.500                 50044.8   \n",
       "\n",
       "   Nivel no gerador de vapor - Faixa larga (%)  \\\n",
       "0                                      50.0000   \n",
       "1                                      50.0078   \n",
       "2                                      49.0423   \n",
       "\n",
       "   Nivel no gerador de vapor - Faixa estreita (%)  \\\n",
       "0                                         62.5153   \n",
       "1                                         62.5169   \n",
       "2                                         62.2777   \n",
       "\n",
       "   Pressao no gerador de vapor (Mpa)  Vazao de agua de alimentacao (kg/s)  \\\n",
       "0                            6.89480                             527.7670   \n",
       "1                            6.89413                             527.8900   \n",
       "2                            6.94732                              34.5845   \n",
       "\n",
       "   Vazao de vapor (kg/s)  Vazao no circuito primario (kg/s)  \\\n",
       "0                527.767                           105.2230   \n",
       "1                528.396                           105.3900   \n",
       "2                354.461                            99.4663   \n",
       "\n",
       "   Pressao no sistema primario (Mpa)  Potencia Termica (%)  \\\n",
       "0                            15.8000              100.0000   \n",
       "1                            15.7999              100.0050   \n",
       "2                            15.4866               11.9731   \n",
       "\n",
       "   Potencia Nuclear (%)  Margem de sub-resfriamento (C)  \\\n",
       "0              100.0000                         21.8620   \n",
       "1              100.0050                         21.8967   \n",
       "2               11.9757                         30.3013   \n",
       "\n",
       "   Nivel do pressurizador (%)  Temperatura media no primario (C)  acidente  \n",
       "0                     59.1491                            307.959  blackout  \n",
       "1                     59.1357                            307.942  blackout  \n",
       "2                     54.6116                            303.144  blackout  "
      ]
     },
     "execution_count": 252,
     "metadata": {},
     "output_type": "execute_result"
    }
   ],
   "source": [
    "dados_sem_ruido.head(3)"
   ]
  },
  {
   "cell_type": "markdown",
   "metadata": {
    "id": "nOGjITvWmQEI"
   },
   "source": [
    "## 3. Análise Exploratória "
   ]
  },
  {
   "cell_type": "code",
   "execution_count": 253,
   "metadata": {
    "id": "vkrvyd94mQEJ"
   },
   "outputs": [],
   "source": [
    "# Concatena todos os dados\n",
    "df_final = pd.concat([dados_ruido_1, dados_ruido_2, dados_sem_ruido])"
   ]
  },
  {
   "cell_type": "code",
   "execution_count": 254,
   "metadata": {},
   "outputs": [
    {
     "name": "stdout",
     "output_type": "stream",
     "text": [
      "<class 'pandas.core.frame.DataFrame'>\n",
      "Int64Index: 2928 entries, 0 to 975\n",
      "Data columns (total 18 columns):\n",
      " #   Column                                          Non-Null Count  Dtype  \n",
      "---  ------                                          --------------  -----  \n",
      " 0   Tempo (s)                                       2928 non-null   int64  \n",
      " 1   Vazao no nucleo (%)                             2928 non-null   float64\n",
      " 2   Temperatura na perna quente (C)                 2928 non-null   float64\n",
      " 3   Temperatura na perna fria (C)                   2928 non-null   float64\n",
      " 4   Vazao no nucleo (kg/s)                          2928 non-null   float64\n",
      " 5   Nivel no gerador de vapor - Faixa larga (%)     2928 non-null   float64\n",
      " 6   Nivel no gerador de vapor - Faixa estreita (%)  2928 non-null   float64\n",
      " 7   Pressao no gerador de vapor (Mpa)               2928 non-null   float64\n",
      " 8   Vazao de agua de alimentacao (kg/s)             2928 non-null   float64\n",
      " 9   Vazao de vapor (kg/s)                           2928 non-null   float64\n",
      " 10  Vazao no circuito primario (kg/s)               2928 non-null   float64\n",
      " 11  Pressao no sistema primario (Mpa)               2928 non-null   float64\n",
      " 12  Potencia Termica (%)                            2928 non-null   float64\n",
      " 13  Potencia Nuclear (%)                            2928 non-null   float64\n",
      " 14  Margem de sub-resfriamento (C)                  2928 non-null   float64\n",
      " 15  Nivel do pressurizador (%)                      2928 non-null   float64\n",
      " 16  Temperatura media no primario (C)               2928 non-null   float64\n",
      " 17  acidente                                        2928 non-null   object \n",
      "dtypes: float64(16), int64(1), object(1)\n",
      "memory usage: 434.6+ KB\n"
     ]
    }
   ],
   "source": [
    "df_final.info()"
   ]
  },
  {
   "cell_type": "code",
   "execution_count": 255,
   "metadata": {},
   "outputs": [
    {
     "data": {
      "text/plain": [
       "(16,)"
      ]
     },
     "execution_count": 255,
     "metadata": {},
     "output_type": "execute_result"
    }
   ],
   "source": [
    "# Quantos tipos diferentes de acidentes\n",
    "df_final['acidente'].unique().shape"
   ]
  },
  {
   "cell_type": "markdown",
   "metadata": {
    "id": "I69WkrYOmQEM"
   },
   "source": [
    "## 4. Tratamento dos dados"
   ]
  },
  {
   "cell_type": "code",
   "execution_count": 256,
   "metadata": {},
   "outputs": [],
   "source": [
    "# Separa as entradas e as saídas da rede \n",
    "x_train = df_final.iloc[:, 1:17]\n",
    "y_train = df_final['acidente']"
   ]
  },
  {
   "cell_type": "code",
   "execution_count": 257,
   "metadata": {
    "colab": {
     "base_uri": "https://localhost:8080/",
     "height": 70
    },
    "id": "QJncwbWrmQEM",
    "outputId": "590879ce-e7db-42db-c68d-e45060da8c2c"
   },
   "outputs": [],
   "source": [
    "# Divide o conjunto de dados\n",
    "x_train, x_test, y_train, y_test = train_test_split(x_train, y_train, \n",
    "                                                    test_size = 0.05)"
   ]
  },
  {
   "cell_type": "code",
   "execution_count": 258,
   "metadata": {
    "id": "g0DxTUtdmQEW"
   },
   "outputs": [],
   "source": [
    "# Instância para normalizar os dados\n",
    "normalizer = MinMaxScaler(feature_range = (0, 1))\n",
    "\n",
    "# Normaliza as entradas de treinamento e teste\n",
    "x_train = normalizer.fit_transform(x_train)\n",
    "x_test = normalizer.fit_transform(x_test)"
   ]
  },
  {
   "cell_type": "code",
   "execution_count": 259,
   "metadata": {},
   "outputs": [],
   "source": [
    "# Instância para transformar os dados em binário\n",
    "lb = LabelBinarizer()\n",
    "\n",
    "# Binariza as saídas de treinamento e teste\n",
    "y_train = lb.fit_transform(y_train)\n",
    "y_test = lb.fit_transform(y_test)"
   ]
  },
  {
   "cell_type": "markdown",
   "metadata": {
    "id": "jlZj-Q2fmQEZ"
   },
   "source": [
    "## 5. Modelagem e treinamento da rede"
   ]
  },
  {
   "cell_type": "code",
   "execution_count": 290,
   "metadata": {
    "id": "yR2icT55mQEZ"
   },
   "outputs": [],
   "source": [
    "# Cria modelo sequencial\n",
    "model = Sequential()"
   ]
  },
  {
   "cell_type": "code",
   "execution_count": 291,
   "metadata": {},
   "outputs": [],
   "source": [
    "# Cria camada de entrada e primeira camada escondida\n",
    "model.add(Dense(50, \n",
    "                input_shape = (16,), \n",
    "                activation = 'relu'))\n",
    "\n",
    "# Cria camada de saída\n",
    "model.add(Dense(16, \n",
    "                activation = 'softmax'))"
   ]
  },
  {
   "cell_type": "code",
   "execution_count": 292,
   "metadata": {},
   "outputs": [
    {
     "name": "stdout",
     "output_type": "stream",
     "text": [
      "Model: \"sequential_15\"\n",
      "_________________________________________________________________\n",
      "Layer (type)                 Output Shape              Param #   \n",
      "=================================================================\n",
      "dense_55 (Dense)             (None, 50)                850       \n",
      "_________________________________________________________________\n",
      "dense_56 (Dense)             (None, 16)                816       \n",
      "=================================================================\n",
      "Total params: 1,666\n",
      "Trainable params: 1,666\n",
      "Non-trainable params: 0\n",
      "_________________________________________________________________\n"
     ]
    }
   ],
   "source": [
    "# Visualização da rede\n",
    "model.summary()"
   ]
  },
  {
   "cell_type": "code",
   "execution_count": 293,
   "metadata": {},
   "outputs": [],
   "source": [
    "# Compila a rede\n",
    "model.compile(optimizer = 'adam', \n",
    "              loss = 'categorical_crossentropy', \n",
    "              metrics = ['accuracy'])"
   ]
  },
  {
   "cell_type": "code",
   "execution_count": 294,
   "metadata": {},
   "outputs": [],
   "source": [
    "# Adiciona callbacks\n",
    "early_stopping = EarlyStopping(monitor = 'val_loss', \n",
    "                               patience = 1)"
   ]
  },
  {
   "cell_type": "code",
   "execution_count": 295,
   "metadata": {},
   "outputs": [
    {
     "name": "stdout",
     "output_type": "stream",
     "text": [
      "Epoch 1/100\n",
      "1321/1321 [==============================] - 1s 827us/step - loss: 2.0105 - accuracy: 0.3249 - val_loss: 1.6971 - val_accuracy: 0.3929\n",
      "Epoch 2/100\n",
      "1321/1321 [==============================] - 1s 768us/step - loss: 1.4563 - accuracy: 0.4733 - val_loss: 1.4208 - val_accuracy: 0.5214\n",
      "Epoch 3/100\n",
      "1321/1321 [==============================] - 1s 787us/step - loss: 1.2919 - accuracy: 0.5271 - val_loss: 1.2927 - val_accuracy: 0.5357\n",
      "Epoch 4/100\n",
      "1321/1321 [==============================] - 1s 776us/step - loss: 1.1878 - accuracy: 0.5786 - val_loss: 1.2183 - val_accuracy: 0.6429\n",
      "Epoch 5/100\n",
      "1321/1321 [==============================] - 1s 784us/step - loss: 1.1145 - accuracy: 0.6051 - val_loss: 1.1287 - val_accuracy: 0.6286\n",
      "Epoch 6/100\n",
      "1321/1321 [==============================] - 1s 777us/step - loss: 1.0544 - accuracy: 0.6369 - val_loss: 1.0892 - val_accuracy: 0.6000\n",
      "Epoch 7/100\n",
      "1321/1321 [==============================] - 1s 785us/step - loss: 1.0096 - accuracy: 0.6456 - val_loss: 1.0419 - val_accuracy: 0.6643\n",
      "Epoch 8/100\n",
      "1321/1321 [==============================] - 1s 777us/step - loss: 0.9692 - accuracy: 0.6649 - val_loss: 1.0311 - val_accuracy: 0.6429oss: 1.0\n",
      "Epoch 9/100\n",
      "1321/1321 [==============================] - 1s 790us/step - loss: 0.9402 - accuracy: 0.6827 - val_loss: 1.0195 - val_accuracy: 0.6214\n",
      "Epoch 10/100\n",
      "1321/1321 [==============================] - 1s 799us/step - loss: 0.9116 - accuracy: 0.6959 - val_loss: 0.9625 - val_accuracy: 0.6500\n",
      "Epoch 11/100\n",
      "1321/1321 [==============================] - 1s 825us/step - loss: 0.8796 - accuracy: 0.7016 - val_loss: 0.9618 - val_accuracy: 0.6429\n",
      "Epoch 12/100\n",
      "1321/1321 [==============================] - 1s 817us/step - loss: 0.8605 - accuracy: 0.7168 - val_loss: 0.9562 - val_accuracy: 0.6429\n",
      "Epoch 13/100\n",
      "1321/1321 [==============================] - 1s 855us/step - loss: 0.8362 - accuracy: 0.7134 - val_loss: 0.8977 - val_accuracy: 0.6500\n",
      "Epoch 14/100\n",
      "1321/1321 [==============================] - 1s 812us/step - loss: 0.8222 - accuracy: 0.7334 - val_loss: 0.8946 - val_accuracy: 0.6643\n",
      "Epoch 15/100\n",
      "1321/1321 [==============================] - 1s 808us/step - loss: 0.7991 - accuracy: 0.7278 - val_loss: 0.8862 - val_accuracy: 0.7000\n",
      "Epoch 16/100\n",
      "1321/1321 [==============================] - 1s 832us/step - loss: 0.7867 - accuracy: 0.7380 - val_loss: 0.8643 - val_accuracy: 0.6500\n",
      "Epoch 17/100\n",
      "1321/1321 [==============================] - 1s 804us/step - loss: 0.7710 - accuracy: 0.7448 - val_loss: 0.8260 - val_accuracy: 0.6929\n",
      "Epoch 18/100\n",
      "1321/1321 [==============================] - 1s 822us/step - loss: 0.7569 - accuracy: 0.7440 - val_loss: 0.8672 - val_accuracy: 0.6714\n"
     ]
    }
   ],
   "source": [
    "# Treinamento da rede\n",
    "history = model.fit(x_train, y_train, \n",
    "                    epochs = 100, \n",
    "                    shuffle = True, \n",
    "                    verbose = 1, \n",
    "                    batch_size = 2, \n",
    "                    validation_split = 0.05, \n",
    "                    callbacks = [early_stopping])"
   ]
  },
  {
   "cell_type": "code",
   "execution_count": 296,
   "metadata": {},
   "outputs": [
    {
     "data": {
      "image/png": "[encoded data removed]",
      "text/plain": [
       "<Figure size 432x288 with 1 Axes>"
      ]
     },
     "metadata": {
      "needs_background": "light"
     },
     "output_type": "display_data"
    }
   ],
   "source": [
    "# Plota os erros de treinamento e de validação\n",
    "plt.plot(history.history['loss'])\n",
    "plt.plot(history.history['val_loss'])\n",
    "plt.title('model loss')\n",
    "plt.ylabel('loss')\n",
    "plt.xlabel('epoch')\n",
    "plt.legend(['train', 'validation'], loc='upper left')\n",
    "plt.show()"
   ]
  },
  {
   "cell_type": "markdown",
   "metadata": {},
   "source": [
    "## 6. Teste da rede em um novo conjunto de dados"
   ]
  },
  {
   "cell_type": "code",
   "execution_count": 297,
   "metadata": {},
   "outputs": [
    {
     "name": "stdout",
     "output_type": "stream",
     "text": [
      "5/5 [==============================] - 0s 1ms/step - loss: 0.9034 - accuracy: 0.7143\n"
     ]
    },
    {
     "data": {
      "text/plain": [
       "[0.9034408330917358, 0.7142857313156128]"
      ]
     },
     "execution_count": 297,
     "metadata": {},
     "output_type": "execute_result"
    }
   ],
   "source": [
    "model.evaluate(x_test, y_test)"
   ]
  },
  {
   "cell_type": "markdown",
   "metadata": {},
   "source": [
    "## Acurácia = 0.714285 "
   ]
  },
  {
   "cell_type": "code",
   "execution_count": null,
   "metadata": {},
   "outputs": [],
   "source": []
  }
 ],
 "metadata": {
  "accelerator": "GPU",
  "colab": {
   "collapsed_sections": [],
   "name": "Trabalho_Redes_Neurais.ipynb",
   "provenance": []
  },
  "kernelspec": {
   "display_name": "Python 3",
   "language": "python",
   "name": "python3"
  },
  "language_info": {
   "codemirror_mode": {
    "name": "ipython",
    "version": 3
   },
   "file_extension": ".py",
   "mimetype": "text/x-python",
   "name": "python",
   "nbconvert_exporter": "python",
   "pygments_lexer": "ipython3",
   "version": "3.6.8"
  }
 },
 "nbformat": 4,
 "nbformat_minor": 1
}
